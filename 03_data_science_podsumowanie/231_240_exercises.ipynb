{
  "nbformat": 4,
  "nbformat_minor": 0,
  "metadata": {
    "colab": {
      "name": "231-240_exercises.ipynb",
      "provenance": [],
      "collapsed_sections": [],
      "include_colab_link": true
    },
    "kernelspec": {
      "name": "python3",
      "display_name": "Python 3"
    }
  },
  "cells": [
    {
      "cell_type": "markdown",
      "metadata": {
        "id": "view-in-github",
        "colab_type": "text"
      },
      "source": [
        "<a href=\"https://colab.research.google.com/github/Sylwiaes/numpy_pandas_cwiczenia/blob/main/03_data_science_podsumowanie/231_240_exercises.ipynb\" target=\"_parent\"><img src=\"https://colab.research.google.com/assets/colab-badge.svg\" alt=\"Open In Colab\"/></a>"
      ]
    },
    {
      "cell_type": "markdown",
      "metadata": {
        "id": "WLEgCW5F1hho"
      },
      "source": [
        "## Data Science Bootcamp\n",
        "\n",
        "### Spis treści:\n",
        "* [Import biblioteki](#0)\n",
        "* [Ćwiczenie 231](#1)\n",
        "* [Ćwiczenie 232](#2)\n",
        "* [Ćwiczenie 233](#3)\n",
        "* [Ćwiczenie 234](#4)\n",
        "* [Ćwiczenie 235](#5)\n",
        "* [Ćwiczenie 236](#6)\n",
        "* [Ćwiczenie 237](#7)\n",
        "* [Ćwiczenie 238](#8)\n",
        "* [Ćwiczenie 239](#9)\n",
        "* [Ćwiczenie 240](#10)"
      ]
    },
    {
      "cell_type": "markdown",
      "metadata": {
        "id": "zeLOLmTj1kBM"
      },
      "source": [
        "### <a name='0'></a>Import biblioteki"
      ]
    },
    {
      "cell_type": "code",
      "metadata": {
        "id": "HXMB7SMe1Wnz",
        "colab": {
          "base_uri": "https://localhost:8080/",
          "height": 35
        },
        "outputId": "eadad09b-d748-4991-db3c-06ccb190241b"
      },
      "source": [
        "import numpy as np\n",
        "import pandas as pd\n",
        "\n",
        "np.__version__"
      ],
      "execution_count": null,
      "outputs": [
        {
          "output_type": "execute_result",
          "data": {
            "application/vnd.google.colaboratory.intrinsic+json": {
              "type": "string"
            },
            "text/plain": [
              "'1.19.5'"
            ]
          },
          "metadata": {
            "tags": []
          },
          "execution_count": 1
        }
      ]
    },
    {
      "cell_type": "markdown",
      "metadata": {
        "id": "cyc70pMe1oCg"
      },
      "source": [
        "### <a name='1'></a> Ćwiczenie 231\n",
        "Zaimportuj bibliotekę _tensorflow_ w wersji 2.x."
      ]
    },
    {
      "cell_type": "code",
      "metadata": {
        "id": "5c01I6SE9iMz",
        "colab": {
          "base_uri": "https://localhost:8080/",
          "height": 35
        },
        "outputId": "9e82bc79-fd6e-4c01-f7a3-390b3245a899"
      },
      "source": [
        "%tensorflow_version 2.x\n",
        "import tensorflow as tf\n",
        "\n",
        "tf.__version__"
      ],
      "execution_count": null,
      "outputs": [
        {
          "output_type": "execute_result",
          "data": {
            "application/vnd.google.colaboratory.intrinsic+json": {
              "type": "string"
            },
            "text/plain": [
              "'2.5.0'"
            ]
          },
          "metadata": {
            "tags": []
          },
          "execution_count": 2
        }
      ]
    },
    {
      "cell_type": "markdown",
      "metadata": {
        "id": "udKQYS8p947j"
      },
      "source": [
        "Załaduj dane Fashion MNIST wykorzystując bibliotekę _tensorflow_. Odpowiednio zbiór treningowy (_X\\_train_, _y\\_train_) oraz testowy (_X\\_test_, _y\\_test_)."
      ]
    },
    {
      "cell_type": "code",
      "metadata": {
        "id": "7ofBzT9D7OtR",
        "colab": {
          "base_uri": "https://localhost:8080/"
        },
        "outputId": "32a153c1-e129-46ce-9d61-9b5be7f24d50"
      },
      "source": [
        "# tutaj wpisz rozwiązanie\n",
        "from tensorflow.keras.datasets.fashion_mnist import load_data\n",
        "\n",
        "(X_train, y_train), (X_test, y_test) = load_data()"
      ],
      "execution_count": null,
      "outputs": [
        {
          "output_type": "stream",
          "text": [
            "Downloading data from https://storage.googleapis.com/tensorflow/tf-keras-datasets/train-labels-idx1-ubyte.gz\n",
            "32768/29515 [=================================] - 0s 0us/step\n",
            "Downloading data from https://storage.googleapis.com/tensorflow/tf-keras-datasets/train-images-idx3-ubyte.gz\n",
            "26427392/26421880 [==============================] - 0s 0us/step\n",
            "Downloading data from https://storage.googleapis.com/tensorflow/tf-keras-datasets/t10k-labels-idx1-ubyte.gz\n",
            "8192/5148 [===============================================] - 0s 0us/step\n",
            "Downloading data from https://storage.googleapis.com/tensorflow/tf-keras-datasets/t10k-images-idx3-ubyte.gz\n",
            "4423680/4422102 [==============================] - 0s 0us/step\n"
          ],
          "name": "stdout"
        }
      ]
    },
    {
      "cell_type": "markdown",
      "metadata": {
        "id": "_5k4LJvz-V41"
      },
      "source": [
        "Sprawdź rozmiar zbiorów treningowych i testowych."
      ]
    },
    {
      "cell_type": "code",
      "metadata": {
        "id": "ZVeMJ_aZ-CeF",
        "colab": {
          "base_uri": "https://localhost:8080/"
        },
        "outputId": "f3699dc1-5a03-409a-ef0d-b4633f4d7c64"
      },
      "source": [
        "# tutaj wpisz rozwiązanie\n",
        "print(f'X_train shape: {X_train.shape}')\n",
        "print(f'y_train shape: {y_train.shape}')\n",
        "print(f'X_test shape: {X_test.shape}')\n",
        "print(f'y_test shape: {y_test.shape}')"
      ],
      "execution_count": null,
      "outputs": [
        {
          "output_type": "stream",
          "text": [
            "X_train shape: (60000, 28, 28)\n",
            "y_train shape: (60000,)\n",
            "X_test shape: (10000, 28, 28)\n",
            "y_test shape: (10000,)\n"
          ],
          "name": "stdout"
        }
      ]
    },
    {
      "cell_type": "markdown",
      "metadata": {
        "id": "J9pY1rtr1sC0"
      },
      "source": [
        "### <a name='2'></a> Ćwiczenie 232 \n",
        "Wykorzytując bibliotekę _matplotlib_ wyświetl obraz ze zbioru treningowego z indeksem 40."
      ]
    },
    {
      "cell_type": "code",
      "metadata": {
        "id": "BaHDWvBb-jJO",
        "colab": {
          "base_uri": "https://localhost:8080/",
          "height": 282
        },
        "outputId": "3a8de830-b78f-4bae-d6a7-e2773fa76e22"
      },
      "source": [
        "# tutaj wpisz rozwiązanie\n",
        "import matplotlib.pyplot as plt\n",
        "\n",
        "plt.imshow(X_train[40], cmap='gray_r')"
      ],
      "execution_count": null,
      "outputs": [
        {
          "output_type": "execute_result",
          "data": {
            "text/plain": [
              "<matplotlib.image.AxesImage at 0x7f2a4e62d710>"
            ]
          },
          "metadata": {
            "tags": []
          },
          "execution_count": 9
        },
        {
          "output_type": "display_data",
          "data": {
            "image/png": "[encoded data removed]",
            "text/plain": [
              "<Figure size 432x288 with 1 Axes>"
            ]
          },
          "metadata": {
            "tags": [],
            "needs_background": "light"
          }
        }
      ]
    },
    {
      "cell_type": "markdown",
      "metadata": {
        "id": "TkKoRL2s-1v9"
      },
      "source": [
        "Wyświetl numer klasy dla próbki ze zbioru treningowego z indeksem 40."
      ]
    },
    {
      "cell_type": "code",
      "metadata": {
        "id": "EbKo520c-9jy",
        "colab": {
          "base_uri": "https://localhost:8080/"
        },
        "outputId": "2acea0df-0068-4981-c4be-720614b32fb5"
      },
      "source": [
        "# tutaj wpisz rozwiązanie\n",
        "y_train[40]"
      ],
      "execution_count": null,
      "outputs": [
        {
          "output_type": "execute_result",
          "data": {
            "text/plain": [
              "6"
            ]
          },
          "metadata": {
            "tags": []
          },
          "execution_count": 10
        }
      ]
    },
    {
      "cell_type": "markdown",
      "metadata": {
        "id": "XQLYT2m11wVG"
      },
      "source": [
        "### <a name='3'></a> Ćwiczenie 233\n",
        "Wystandaryzuj dane. Podziel wartości tablic _X\\_train_ oraz _X\\_test_ przez wartość 255.0."
      ]
    },
    {
      "cell_type": "code",
      "metadata": {
        "id": "xnWZFky_DKbU"
      },
      "source": [
        "# tutaj wpisz rozwiązanie\n",
        "X_train = X_train / 255.\n",
        "X_test = X_test / 255."
      ],
      "execution_count": null,
      "outputs": []
    },
    {
      "cell_type": "markdown",
      "metadata": {
        "id": "4xTKSUzg10MK"
      },
      "source": [
        "### <a name='4'></a> Ćwiczenie 234\n",
        "Zaimportuj klasę _Sequential_ z biblioteki _tensorflow_ wykorzystując pakiet _keras_."
      ]
    },
    {
      "cell_type": "code",
      "metadata": {
        "id": "kUOmpZA3DPS9"
      },
      "source": [
        "# tutaj wpisz rozwiązanie\n",
        "from tensorflow.keras.models import Sequential"
      ],
      "execution_count": null,
      "outputs": []
    },
    {
      "cell_type": "markdown",
      "metadata": {
        "id": "iG9Y3gcOFK8u"
      },
      "source": [
        "Zaimportuj warstwy _Flatten_ oraz _Dense_ z biblioteki _tensorflow_ wykorzystując pakiet _keras_."
      ]
    },
    {
      "cell_type": "code",
      "metadata": {
        "id": "NatRczkHFMdl"
      },
      "source": [
        "# tutaj wpisz rozwiązanie\n",
        "from tensorflow.keras.layers import Flatten\n",
        "from tensorflow.keras.layers import Dense"
      ],
      "execution_count": null,
      "outputs": []
    },
    {
      "cell_type": "markdown",
      "metadata": {
        "id": "o3HKIKlP15Ro"
      },
      "source": [
        "### <a name='5'></a> Ćwiczenie 235\n",
        "Zbuduj model klasy _Sequential_."
      ]
    },
    {
      "cell_type": "code",
      "metadata": {
        "id": "Nxl6oimGDf53"
      },
      "source": [
        "# tutaj wpisz rozwiązanie\n",
        "model = Sequential() #utworzenie instancji klasy"
      ],
      "execution_count": null,
      "outputs": []
    },
    {
      "cell_type": "markdown",
      "metadata": {
        "id": "eBtEdpmWFZ5U"
      },
      "source": [
        "Dodaj pierwszą warstwę typu _Flatten_ wraz z odpowiednio dobranym parametrem _input_shape_."
      ]
    },
    {
      "cell_type": "code",
      "metadata": {
        "id": "cFWTioPFFYXp"
      },
      "source": [
        "# tutaj wpisz rozwiązanie\n",
        "model.add(Flatten(input_shape=(28, 28)))"
      ],
      "execution_count": null,
      "outputs": []
    },
    {
      "cell_type": "markdown",
      "metadata": {
        "id": "PuwbCbWlFh8v"
      },
      "source": [
        "Dodaj kolejną warstwę typu _Dense_ z 128 neuronami i funkcją aktywacji _relu_."
      ]
    },
    {
      "cell_type": "code",
      "metadata": {
        "id": "VliQveubFr9z"
      },
      "source": [
        "# tutaj wpisz rozwiązanie\n",
        "model.add(Dense(units=128, activation='relu'))"
      ],
      "execution_count": null,
      "outputs": []
    },
    {
      "cell_type": "markdown",
      "metadata": {
        "id": "iU5HfJfMFt7L"
      },
      "source": [
        "Dodaj ostatnią warstwę typu _Dense_ z 10 neuronami i funkcją aktywacji _softmax_."
      ]
    },
    {
      "cell_type": "code",
      "metadata": {
        "id": "cf6qF7uIFyrg"
      },
      "source": [
        "# tutaj wpisz rozwiązanie\n",
        "model.add(Dense(units=10, activation='softmax'))"
      ],
      "execution_count": null,
      "outputs": []
    },
    {
      "cell_type": "markdown",
      "metadata": {
        "id": "slg5RaMuF0hu"
      },
      "source": [
        "Wyświetl podsumowanie modelu."
      ]
    },
    {
      "cell_type": "code",
      "metadata": {
        "id": "opGjZoakFz-P",
        "colab": {
          "base_uri": "https://localhost:8080/"
        },
        "outputId": "e46247db-98ce-4952-a33f-529783621d84"
      },
      "source": [
        "# tutaj wpisz rozwiązanie\n",
        "model.summary()"
      ],
      "execution_count": null,
      "outputs": [
        {
          "output_type": "stream",
          "text": [
            "Model: \"sequential\"\n",
            "_________________________________________________________________\n",
            "Layer (type)                 Output Shape              Param #   \n",
            "=================================================================\n",
            "flatten (Flatten)            (None, 784)               0         \n",
            "_________________________________________________________________\n",
            "dense (Dense)                (None, 128)               100480    \n",
            "_________________________________________________________________\n",
            "dense_1 (Dense)              (None, 10)                1290      \n",
            "=================================================================\n",
            "Total params: 101,770\n",
            "Trainable params: 101,770\n",
            "Non-trainable params: 0\n",
            "_________________________________________________________________\n"
          ],
          "name": "stdout"
        }
      ]
    },
    {
      "cell_type": "markdown",
      "metadata": {
        "id": "PunXd_Ey16so"
      },
      "source": [
        "### <a name='6'></a> Ćwiczenie 236\n",
        "Skompiluj model. Wykorzystaj optymalizator _rmsprop_, funkcję straty _sparse_categorical_crossentropy_ oraz metrykę _accuracy_."
      ]
    },
    {
      "cell_type": "code",
      "metadata": {
        "id": "jZ8kQ_kBDuoT"
      },
      "source": [
        "# tutaj wpisz rozwiązanie\n",
        "model.compile(optimizer='rmsprop', loss='sparse_categorical_crossentropy', metrics=['accuracy'])"
      ],
      "execution_count": null,
      "outputs": []
    },
    {
      "cell_type": "markdown",
      "metadata": {
        "id": "hOhqDRz618Tx"
      },
      "source": [
        "### <a name='7'></a> Ćwiczenie 237\n",
        "Dopasuj model do danych treningowych, ustawiając 10 epok oraz podział na zbiór walidacyjny wynoszący 0.2."
      ]
    },
    {
      "cell_type": "code",
      "metadata": {
        "id": "dfzLV2jKD30J",
        "colab": {
          "base_uri": "https://localhost:8080/"
        },
        "outputId": "5549f677-e3fb-42de-c677-d30b45778ae6"
      },
      "source": [
        "# tutaj wpisz rozwiązanie\n",
        "history = model.fit(X_train, y_train, epochs=10, validation_split=0.2)"
      ],
      "execution_count": null,
      "outputs": [
        {
          "output_type": "stream",
          "text": [
            "Epoch 1/10\n",
            "1500/1500 [==============================] - 5s 3ms/step - loss: 0.5297 - accuracy: 0.8132 - val_loss: 0.4326 - val_accuracy: 0.8409\n",
            "Epoch 2/10\n",
            "1500/1500 [==============================] - 4s 3ms/step - loss: 0.3869 - accuracy: 0.8604 - val_loss: 0.3763 - val_accuracy: 0.8640\n",
            "Epoch 3/10\n",
            "1500/1500 [==============================] - 4s 3ms/step - loss: 0.3535 - accuracy: 0.8727 - val_loss: 0.3596 - val_accuracy: 0.8746\n",
            "Epoch 4/10\n",
            "1500/1500 [==============================] - 5s 3ms/step - loss: 0.3317 - accuracy: 0.8816 - val_loss: 0.4073 - val_accuracy: 0.8637\n",
            "Epoch 5/10\n",
            "1500/1500 [==============================] - 5s 3ms/step - loss: 0.3164 - accuracy: 0.8879 - val_loss: 0.3615 - val_accuracy: 0.8793\n",
            "Epoch 6/10\n",
            "1500/1500 [==============================] - 4s 3ms/step - loss: 0.3063 - accuracy: 0.8909 - val_loss: 0.3660 - val_accuracy: 0.8820\n",
            "Epoch 7/10\n",
            "1500/1500 [==============================] - 4s 3ms/step - loss: 0.2960 - accuracy: 0.8946 - val_loss: 0.3569 - val_accuracy: 0.8854\n",
            "Epoch 8/10\n",
            "1500/1500 [==============================] - 5s 3ms/step - loss: 0.2890 - accuracy: 0.8981 - val_loss: 0.4099 - val_accuracy: 0.8710\n",
            "Epoch 9/10\n",
            "1500/1500 [==============================] - 5s 3ms/step - loss: 0.2823 - accuracy: 0.9011 - val_loss: 0.3693 - val_accuracy: 0.8869\n",
            "Epoch 10/10\n",
            "1500/1500 [==============================] - 5s 3ms/step - loss: 0.2752 - accuracy: 0.9044 - val_loss: 0.4272 - val_accuracy: 0.8789\n"
          ],
          "name": "stdout"
        }
      ]
    },
    {
      "cell_type": "markdown",
      "metadata": {
        "id": "TXUd_4631-gw"
      },
      "source": [
        "### <a name='8'></a> Ćwiczenie 238\n",
        "Dokonaj predykcji modelu na podstawie danych testowych."
      ]
    },
    {
      "cell_type": "code",
      "metadata": {
        "id": "DTt5x9nWEHdk",
        "colab": {
          "base_uri": "https://localhost:8080/"
        },
        "outputId": "954cf325-068b-4e8e-dbfe-20b8a248ac9e"
      },
      "source": [
        "# tutaj wpisz rozwiązanie\n",
        "y_pred = model.predict_classes(X_test)\n",
        "y_pred"
      ],
      "execution_count": null,
      "outputs": [
        {
          "output_type": "stream",
          "text": [
            "/usr/local/lib/python3.7/dist-packages/tensorflow/python/keras/engine/sequential.py:455: UserWarning: `model.predict_classes()` is deprecated and will be removed after 2021-01-01. Please use instead:* `np.argmax(model.predict(x), axis=-1)`,   if your model does multi-class classification   (e.g. if it uses a `softmax` last-layer activation).* `(model.predict(x) > 0.5).astype(\"int32\")`,   if your model does binary classification   (e.g. if it uses a `sigmoid` last-layer activation).\n",
            "  warnings.warn('`model.predict_classes()` is deprecated and '\n"
          ],
          "name": "stderr"
        },
        {
          "output_type": "execute_result",
          "data": {
            "text/plain": [
              "array([9, 2, 1, ..., 8, 1, 5])"
            ]
          },
          "metadata": {
            "tags": []
          },
          "execution_count": 23
        }
      ]
    },
    {
      "cell_type": "markdown",
      "metadata": {
        "id": "PBx5KlxNGeKi"
      },
      "source": [
        "Zbuduj macierz konfuzji (macierz pomyłek)."
      ]
    },
    {
      "cell_type": "code",
      "metadata": {
        "id": "OMTUnA7pEUbY",
        "colab": {
          "base_uri": "https://localhost:8080/"
        },
        "outputId": "60f97f31-c926-49e4-a7af-39602016ef12"
      },
      "source": [
        "# tutaj wpisz rozwiązanie\n",
        "from sklearn.metrics import confusion_matrix\n",
        "\n",
        "cm = confusion_matrix(y_test, y_pred)\n",
        "cm"
      ],
      "execution_count": null,
      "outputs": [
        {
          "output_type": "execute_result",
          "data": {
            "text/plain": [
              "array([[885,   0,   8,  34,   3,   2,  63,   0,   5,   0],\n",
              "       [ 10, 957,   1,  25,   3,   0,   4,   0,   0,   0],\n",
              "       [ 50,   0, 715,  10,  95,   0, 128,   0,   2,   0],\n",
              "       [ 32,   7,  13, 885,  32,   0,  30,   0,   1,   0],\n",
              "       [  3,   0,  73,  24, 736,   1, 163,   0,   0,   0],\n",
              "       [  0,   0,   0,   1,   0, 958,   0,  27,   2,  12],\n",
              "       [187,   1,  50,  30,  39,   0, 684,   0,   9,   0],\n",
              "       [  0,   0,   0,   0,   0,  14,   0, 966,   0,  20],\n",
              "       [ 14,   0,   2,   4,   3,   1,  11,   4, 961,   0],\n",
              "       [  0,   0,   0,   0,   0,   8,   1,  51,   0, 940]])"
            ]
          },
          "metadata": {
            "tags": []
          },
          "execution_count": 24
        }
      ]
    },
    {
      "cell_type": "markdown",
      "metadata": {
        "id": "tgI6xEn-2AQo"
      },
      "source": [
        "### <a name='9'></a> Ćwiczenie 239\n",
        "Zbuduj obiekt pandas _DataFrame_ zawierający predykcje modelu. Nadaj nazwę kolumny _prediction_ i przypisz do zmiennej _results_."
      ]
    },
    {
      "cell_type": "code",
      "metadata": {
        "id": "rgVtSSeLPj3Y",
        "colab": {
          "base_uri": "https://localhost:8080/",
          "height": 419
        },
        "outputId": "6104c689-7fd7-49b1-cd49-69b170c537a6"
      },
      "source": [
        "# tutaj wpisz rozwiązanie\n",
        "results = pd.DataFrame(y_pred, columns=['prediction'])\n",
        "results"
      ],
      "execution_count": null,
      "outputs": [
        {
          "output_type": "execute_result",
          "data": {
            "text/html": [
              "<div>\n",
              "<style scoped>\n",
              "    .dataframe tbody tr th:only-of-type {\n",
              "        vertical-align: middle;\n",
              "    }\n",
              "\n",
              "    .dataframe tbody tr th {\n",
              "        vertical-align: top;\n",
              "    }\n",
              "\n",
              "    .dataframe thead th {\n",
              "        text-align: right;\n",
              "    }\n",
              "</style>\n",
              "<table border=\"1\" class=\"dataframe\">\n",
              "  <thead>\n",
              "    <tr style=\"text-align: right;\">\n",
              "      <th></th>\n",
              "      <th>prediction</th>\n",
              "    </tr>\n",
              "  </thead>\n",
              "  <tbody>\n",
              "    <tr>\n",
              "      <th>0</th>\n",
              "      <td>9</td>\n",
              "    </tr>\n",
              "    <tr>\n",
              "      <th>1</th>\n",
              "      <td>2</td>\n",
              "    </tr>\n",
              "    <tr>\n",
              "      <th>2</th>\n",
              "      <td>1</td>\n",
              "    </tr>\n",
              "    <tr>\n",
              "      <th>3</th>\n",
              "      <td>1</td>\n",
              "    </tr>\n",
              "    <tr>\n",
              "      <th>4</th>\n",
              "      <td>6</td>\n",
              "    </tr>\n",
              "    <tr>\n",
              "      <th>...</th>\n",
              "      <td>...</td>\n",
              "    </tr>\n",
              "    <tr>\n",
              "      <th>9995</th>\n",
              "      <td>9</td>\n",
              "    </tr>\n",
              "    <tr>\n",
              "      <th>9996</th>\n",
              "      <td>1</td>\n",
              "    </tr>\n",
              "    <tr>\n",
              "      <th>9997</th>\n",
              "      <td>8</td>\n",
              "    </tr>\n",
              "    <tr>\n",
              "      <th>9998</th>\n",
              "      <td>1</td>\n",
              "    </tr>\n",
              "    <tr>\n",
              "      <th>9999</th>\n",
              "      <td>5</td>\n",
              "    </tr>\n",
              "  </tbody>\n",
              "</table>\n",
              "<p>10000 rows × 1 columns</p>\n",
              "</div>"
            ],
            "text/plain": [
              "      prediction\n",
              "0              9\n",
              "1              2\n",
              "2              1\n",
              "3              1\n",
              "4              6\n",
              "...          ...\n",
              "9995           9\n",
              "9996           1\n",
              "9997           8\n",
              "9998           1\n",
              "9999           5\n",
              "\n",
              "[10000 rows x 1 columns]"
            ]
          },
          "metadata": {
            "tags": []
          },
          "execution_count": 27
        }
      ]
    },
    {
      "cell_type": "markdown",
      "metadata": {
        "id": "K_Pox4jIRCvs"
      },
      "source": [
        "Przypisz nową kolumnę z wartościami ze zmiennej _y\\_test_ i nazwij ją _y\\_test_."
      ]
    },
    {
      "cell_type": "code",
      "metadata": {
        "id": "7__xhD69Q9uK",
        "colab": {
          "base_uri": "https://localhost:8080/",
          "height": 419
        },
        "outputId": "7baff7f1-4343-47df-819f-470ea00899ee"
      },
      "source": [
        "# tutaj wpisz rozwiązanie\n",
        "results['y_test'] = y_test\n",
        "results"
      ],
      "execution_count": null,
      "outputs": [
        {
          "output_type": "execute_result",
          "data": {
            "text/html": [
              "<div>\n",
              "<style scoped>\n",
              "    .dataframe tbody tr th:only-of-type {\n",
              "        vertical-align: middle;\n",
              "    }\n",
              "\n",
              "    .dataframe tbody tr th {\n",
              "        vertical-align: top;\n",
              "    }\n",
              "\n",
              "    .dataframe thead th {\n",
              "        text-align: right;\n",
              "    }\n",
              "</style>\n",
              "<table border=\"1\" class=\"dataframe\">\n",
              "  <thead>\n",
              "    <tr style=\"text-align: right;\">\n",
              "      <th></th>\n",
              "      <th>prediction</th>\n",
              "      <th>y_test</th>\n",
              "    </tr>\n",
              "  </thead>\n",
              "  <tbody>\n",
              "    <tr>\n",
              "      <th>0</th>\n",
              "      <td>9</td>\n",
              "      <td>9</td>\n",
              "    </tr>\n",
              "    <tr>\n",
              "      <th>1</th>\n",
              "      <td>2</td>\n",
              "      <td>2</td>\n",
              "    </tr>\n",
              "    <tr>\n",
              "      <th>2</th>\n",
              "      <td>1</td>\n",
              "      <td>1</td>\n",
              "    </tr>\n",
              "    <tr>\n",
              "      <th>3</th>\n",
              "      <td>1</td>\n",
              "      <td>1</td>\n",
              "    </tr>\n",
              "    <tr>\n",
              "      <th>4</th>\n",
              "      <td>6</td>\n",
              "      <td>6</td>\n",
              "    </tr>\n",
              "    <tr>\n",
              "      <th>...</th>\n",
              "      <td>...</td>\n",
              "      <td>...</td>\n",
              "    </tr>\n",
              "    <tr>\n",
              "      <th>9995</th>\n",
              "      <td>9</td>\n",
              "      <td>9</td>\n",
              "    </tr>\n",
              "    <tr>\n",
              "      <th>9996</th>\n",
              "      <td>1</td>\n",
              "      <td>1</td>\n",
              "    </tr>\n",
              "    <tr>\n",
              "      <th>9997</th>\n",
              "      <td>8</td>\n",
              "      <td>8</td>\n",
              "    </tr>\n",
              "    <tr>\n",
              "      <th>9998</th>\n",
              "      <td>1</td>\n",
              "      <td>1</td>\n",
              "    </tr>\n",
              "    <tr>\n",
              "      <th>9999</th>\n",
              "      <td>5</td>\n",
              "      <td>5</td>\n",
              "    </tr>\n",
              "  </tbody>\n",
              "</table>\n",
              "<p>10000 rows × 2 columns</p>\n",
              "</div>"
            ],
            "text/plain": [
              "      prediction  y_test\n",
              "0              9       9\n",
              "1              2       2\n",
              "2              1       1\n",
              "3              1       1\n",
              "4              6       6\n",
              "...          ...     ...\n",
              "9995           9       9\n",
              "9996           1       1\n",
              "9997           8       8\n",
              "9998           1       1\n",
              "9999           5       5\n",
              "\n",
              "[10000 rows x 2 columns]"
            ]
          },
          "metadata": {
            "tags": []
          },
          "execution_count": 28
        }
      ]
    },
    {
      "cell_type": "markdown",
      "metadata": {
        "id": "fwZMFYpxRwfz"
      },
      "source": [
        "Przypisz nową kolumnę o nazwie _is_misclassified_, która zwróci 1, gdy próbki zostaną błędnie sklasyfikowane, w przeciwnym przypadku 0."
      ]
    },
    {
      "cell_type": "code",
      "metadata": {
        "id": "dTDauRDuRPAf",
        "colab": {
          "base_uri": "https://localhost:8080/",
          "height": 419
        },
        "outputId": "fd4c7635-25ff-474d-a504-63c6f095953e"
      },
      "source": [
        "# tutaj wpisz rozwiązanie\n",
        "results['is_misclassified'] = (results['prediction'] != results['y_test']).astype('int')\n",
        "results"
      ],
      "execution_count": null,
      "outputs": [
        {
          "output_type": "execute_result",
          "data": {
            "text/html": [
              "<div>\n",
              "<style scoped>\n",
              "    .dataframe tbody tr th:only-of-type {\n",
              "        vertical-align: middle;\n",
              "    }\n",
              "\n",
              "    .dataframe tbody tr th {\n",
              "        vertical-align: top;\n",
              "    }\n",
              "\n",
              "    .dataframe thead th {\n",
              "        text-align: right;\n",
              "    }\n",
              "</style>\n",
              "<table border=\"1\" class=\"dataframe\">\n",
              "  <thead>\n",
              "    <tr style=\"text-align: right;\">\n",
              "      <th></th>\n",
              "      <th>prediction</th>\n",
              "      <th>y_test</th>\n",
              "      <th>is_misclassified</th>\n",
              "    </tr>\n",
              "  </thead>\n",
              "  <tbody>\n",
              "    <tr>\n",
              "      <th>0</th>\n",
              "      <td>9</td>\n",
              "      <td>9</td>\n",
              "      <td>0</td>\n",
              "    </tr>\n",
              "    <tr>\n",
              "      <th>1</th>\n",
              "      <td>2</td>\n",
              "      <td>2</td>\n",
              "      <td>0</td>\n",
              "    </tr>\n",
              "    <tr>\n",
              "      <th>2</th>\n",
              "      <td>1</td>\n",
              "      <td>1</td>\n",
              "      <td>0</td>\n",
              "    </tr>\n",
              "    <tr>\n",
              "      <th>3</th>\n",
              "      <td>1</td>\n",
              "      <td>1</td>\n",
              "      <td>0</td>\n",
              "    </tr>\n",
              "    <tr>\n",
              "      <th>4</th>\n",
              "      <td>6</td>\n",
              "      <td>6</td>\n",
              "      <td>0</td>\n",
              "    </tr>\n",
              "    <tr>\n",
              "      <th>...</th>\n",
              "      <td>...</td>\n",
              "      <td>...</td>\n",
              "      <td>...</td>\n",
              "    </tr>\n",
              "    <tr>\n",
              "      <th>9995</th>\n",
              "      <td>9</td>\n",
              "      <td>9</td>\n",
              "      <td>0</td>\n",
              "    </tr>\n",
              "    <tr>\n",
              "      <th>9996</th>\n",
              "      <td>1</td>\n",
              "      <td>1</td>\n",
              "      <td>0</td>\n",
              "    </tr>\n",
              "    <tr>\n",
              "      <th>9997</th>\n",
              "      <td>8</td>\n",
              "      <td>8</td>\n",
              "      <td>0</td>\n",
              "    </tr>\n",
              "    <tr>\n",
              "      <th>9998</th>\n",
              "      <td>1</td>\n",
              "      <td>1</td>\n",
              "      <td>0</td>\n",
              "    </tr>\n",
              "    <tr>\n",
              "      <th>9999</th>\n",
              "      <td>5</td>\n",
              "      <td>5</td>\n",
              "      <td>0</td>\n",
              "    </tr>\n",
              "  </tbody>\n",
              "</table>\n",
              "<p>10000 rows × 3 columns</p>\n",
              "</div>"
            ],
            "text/plain": [
              "      prediction  y_test  is_misclassified\n",
              "0              9       9                 0\n",
              "1              2       2                 0\n",
              "2              1       1                 0\n",
              "3              1       1                 0\n",
              "4              6       6                 0\n",
              "...          ...     ...               ...\n",
              "9995           9       9                 0\n",
              "9996           1       1                 0\n",
              "9997           8       8                 0\n",
              "9998           1       1                 0\n",
              "9999           5       5                 0\n",
              "\n",
              "[10000 rows x 3 columns]"
            ]
          },
          "metadata": {
            "tags": []
          },
          "execution_count": 32
        }
      ]
    },
    {
      "cell_type": "markdown",
      "metadata": {
        "id": "wxhpf-uq2B1I"
      },
      "source": [
        "### <a name='10'></a> Ćwiczenie 240\n",
        "Zapisz obiekt _results_ do pliku _results.csv_."
      ]
    },
    {
      "cell_type": "code",
      "metadata": {
        "id": "YFc0KW6URsuc"
      },
      "source": [
        "# tutaj wpisz rozwiązanie\n",
        "results.to_csv('results.csv', index=False)"
      ],
      "execution_count": null,
      "outputs": []
    },
    {
      "cell_type": "code",
      "metadata": {
        "id": "G8LCyqkdSK-3",
        "colab": {
          "base_uri": "https://localhost:8080/"
        },
        "outputId": "2f7c23b9-40bc-4aa5-c21a-e5eb20f96ac0"
      },
      "source": [
        "!head results.csv"
      ],
      "execution_count": null,
      "outputs": [
        {
          "output_type": "stream",
          "text": [
            "prediction,y_test,is_misclassified\n",
            "9,9,0\n",
            "2,2,0\n",
            "1,1,0\n",
            "1,1,0\n",
            "6,6,0\n",
            "1,1,0\n",
            "4,4,0\n",
            "6,6,0\n",
            "5,5,0\n"
          ],
          "name": "stdout"
        }
      ]
    }
  ]
}