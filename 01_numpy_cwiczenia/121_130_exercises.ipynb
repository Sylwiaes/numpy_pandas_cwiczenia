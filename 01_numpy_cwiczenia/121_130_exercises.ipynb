{
  "nbformat": 4,
  "nbformat_minor": 0,
  "metadata": {
    "colab": {
      "name": "121-130_exercises.ipynb",
      "provenance": [],
      "collapsed_sections": [],
      "include_colab_link": true
    },
    "kernelspec": {
      "name": "python3",
      "display_name": "Python 3"
    }
  },
  "cells": [
    {
      "cell_type": "markdown",
      "metadata": {
        "id": "view-in-github",
        "colab_type": "text"
      },
      "source": [
        "<a href=\"https://colab.research.google.com/github/Sylwiaes/numpy_pandas_cwiczenia/blob/main/01_numpy_cwiczenia/121_130_exercises.ipynb\" target=\"_parent\"><img src=\"https://colab.research.google.com/assets/colab-badge.svg\" alt=\"Open In Colab\"/></a>"
      ]
    },
    {
      "cell_type": "markdown",
      "metadata": {
        "id": "WLEgCW5F1hho"
      },
      "source": [
        "## Pandas\n",
        "\n",
        "### Spis treści:\n",
        "* [Import biblioteki](#0)\n",
        "* [Ćwiczenie 121](#1)\n",
        "* [Ćwiczenie 122](#2)\n",
        "* [Ćwiczenie 123](#3)\n",
        "* [Ćwiczenie 124](#4)\n",
        "* [Ćwiczenie 125](#5)\n",
        "* [Ćwiczenie 126](#6)\n",
        "* [Ćwiczenie 127](#7)\n",
        "* [Ćwiczenie 128](#8)\n",
        "* [Ćwiczenie 129](#9)\n",
        "* [Ćwiczenie 130](#10)"
      ]
    },
    {
      "cell_type": "markdown",
      "metadata": {
        "id": "zeLOLmTj1kBM"
      },
      "source": [
        "### <a name='0'></a>Import biblioteki"
      ]
    },
    {
      "cell_type": "code",
      "metadata": {
        "id": "HXMB7SMe1Wnz",
        "colab": {
          "base_uri": "https://localhost:8080/",
          "height": 35
        },
        "outputId": "b5328d73-e775-431c-c87b-f7e1ca0dc952"
      },
      "source": [
        "import numpy as np\n",
        "import pandas as pd\n",
        "import seaborn as sns\n",
        "\n",
        "sns.set()\n",
        "np.__version__"
      ],
      "execution_count": 25,
      "outputs": [
        {
          "output_type": "execute_result",
          "data": {
            "application/vnd.google.colaboratory.intrinsic+json": {
              "type": "string"
            },
            "text/plain": [
              "'1.19.5'"
            ]
          },
          "metadata": {
            "tags": []
          },
          "execution_count": 25
        }
      ]
    },
    {
      "cell_type": "markdown",
      "metadata": {
        "id": "d1KXPVTVcwTX"
      },
      "source": [
        "Funkcja _fetch_financial_data()_ pobiera dane dotyczące notowań spółek giełdowych. Będzie wykorzystywana w poniższych ćwiczeniach. Aby pobrać dane konkretnej spółki należy przekazać odpowiedni ticker (symbol) spółki.\n",
        "\n",
        "Kilka przykładowych tickerów spółek:\n",
        "* AMZN - Amazon\n",
        "* GOOGL - Google\n",
        "* MSFT - Microsoft\n",
        "* AAPL - Apple\n",
        "* NKE - Nike\n",
        "* WMT - Walmart"
      ]
    },
    {
      "cell_type": "code",
      "metadata": {
        "id": "gTRegewub5oK"
      },
      "source": [
        "def fetch_financial_data(company='AMZN'):\n",
        "    \"\"\"\n",
        "    This function fetches stock market quotations.\n",
        "    \"\"\"\n",
        "    import pandas_datareader.data as web\n",
        "    return web.DataReader(name=company, data_source='stooq')"
      ],
      "execution_count": 26,
      "outputs": []
    },
    {
      "cell_type": "markdown",
      "metadata": {
        "id": "cyc70pMe1oCg"
      },
      "source": [
        "### <a name='1'></a> Ćwiczenie 121\n",
        "Wykorzystując funkcję _fetch_financial_data()_ pobierz notowania dla spółki Google (Alphabet) i przypisz do zmiennej _google_. Wyświetl obiekt _google_."
      ]
    },
    {
      "cell_type": "code",
      "metadata": {
        "id": "LtMEvHZicna7",
        "colab": {
          "base_uri": "https://localhost:8080/",
          "height": 450
        },
        "outputId": "343870e7-d445-49bf-b1d3-03c09da65d51"
      },
      "source": [
        "# tutaj wpisz rozwiązanie\n",
        "google = fetch_financial_data(company='GOOGL')\n",
        "google"
      ],
      "execution_count": 27,
      "outputs": [
        {
          "output_type": "execute_result",
          "data": {
            "text/html": [
              "<div>\n",
              "<style scoped>\n",
              "    .dataframe tbody tr th:only-of-type {\n",
              "        vertical-align: middle;\n",
              "    }\n",
              "\n",
              "    .dataframe tbody tr th {\n",
              "        vertical-align: top;\n",
              "    }\n",
              "\n",
              "    .dataframe thead th {\n",
              "        text-align: right;\n",
              "    }\n",
              "</style>\n",
              "<table border=\"1\" class=\"dataframe\">\n",
              "  <thead>\n",
              "    <tr style=\"text-align: right;\">\n",
              "      <th></th>\n",
              "      <th>Open</th>\n",
              "      <th>High</th>\n",
              "      <th>Low</th>\n",
              "      <th>Close</th>\n",
              "      <th>Volume</th>\n",
              "    </tr>\n",
              "    <tr>\n",
              "      <th>Date</th>\n",
              "      <th></th>\n",
              "      <th></th>\n",
              "      <th></th>\n",
              "      <th></th>\n",
              "      <th></th>\n",
              "    </tr>\n",
              "  </thead>\n",
              "  <tbody>\n",
              "    <tr>\n",
              "      <th>2021-06-07</th>\n",
              "      <td>2389.44</td>\n",
              "      <td>2404.51</td>\n",
              "      <td>2381.00</td>\n",
              "      <td>2402.30</td>\n",
              "      <td>1205966</td>\n",
              "    </tr>\n",
              "    <tr>\n",
              "      <th>2021-06-04</th>\n",
              "      <td>2369.27</td>\n",
              "      <td>2399.03</td>\n",
              "      <td>2362.41</td>\n",
              "      <td>2393.57</td>\n",
              "      <td>1222910</td>\n",
              "    </tr>\n",
              "    <tr>\n",
              "      <th>2021-06-03</th>\n",
              "      <td>2345.73</td>\n",
              "      <td>2357.01</td>\n",
              "      <td>2329.52</td>\n",
              "      <td>2347.58</td>\n",
              "      <td>934796</td>\n",
              "    </tr>\n",
              "    <tr>\n",
              "      <th>2021-06-02</th>\n",
              "      <td>2389.15</td>\n",
              "      <td>2393.64</td>\n",
              "      <td>2352.36</td>\n",
              "      <td>2370.59</td>\n",
              "      <td>1058146</td>\n",
              "    </tr>\n",
              "    <tr>\n",
              "      <th>2021-06-01</th>\n",
              "      <td>2374.44</td>\n",
              "      <td>2385.71</td>\n",
              "      <td>2354.28</td>\n",
              "      <td>2381.18</td>\n",
              "      <td>1167901</td>\n",
              "    </tr>\n",
              "    <tr>\n",
              "      <th>...</th>\n",
              "      <td>...</td>\n",
              "      <td>...</td>\n",
              "      <td>...</td>\n",
              "      <td>...</td>\n",
              "      <td>...</td>\n",
              "    </tr>\n",
              "    <tr>\n",
              "      <th>2016-06-15</th>\n",
              "      <td>734.92</td>\n",
              "      <td>736.96</td>\n",
              "      <td>731.31</td>\n",
              "      <td>732.19</td>\n",
              "      <td>731766</td>\n",
              "    </tr>\n",
              "    <tr>\n",
              "      <th>2016-06-14</th>\n",
              "      <td>729.31</td>\n",
              "      <td>736.00</td>\n",
              "      <td>726.50</td>\n",
              "      <td>733.25</td>\n",
              "      <td>877264</td>\n",
              "    </tr>\n",
              "    <tr>\n",
              "      <th>2016-06-13</th>\n",
              "      <td>729.82</td>\n",
              "      <td>739.00</td>\n",
              "      <td>729.82</td>\n",
              "      <td>731.88</td>\n",
              "      <td>746805</td>\n",
              "    </tr>\n",
              "    <tr>\n",
              "      <th>2016-06-10</th>\n",
              "      <td>735.95</td>\n",
              "      <td>739.64</td>\n",
              "      <td>730.51</td>\n",
              "      <td>733.19</td>\n",
              "      <td>1242152</td>\n",
              "    </tr>\n",
              "    <tr>\n",
              "      <th>2016-06-09</th>\n",
              "      <td>737.07</td>\n",
              "      <td>743.93</td>\n",
              "      <td>736.50</td>\n",
              "      <td>742.52</td>\n",
              "      <td>619331</td>\n",
              "    </tr>\n",
              "  </tbody>\n",
              "</table>\n",
              "<p>1257 rows × 5 columns</p>\n",
              "</div>"
            ],
            "text/plain": [
              "              Open    High     Low   Close   Volume\n",
              "Date                                               \n",
              "2021-06-07 2389.44 2404.51 2381.00 2402.30  1205966\n",
              "2021-06-04 2369.27 2399.03 2362.41 2393.57  1222910\n",
              "2021-06-03 2345.73 2357.01 2329.52 2347.58   934796\n",
              "2021-06-02 2389.15 2393.64 2352.36 2370.59  1058146\n",
              "2021-06-01 2374.44 2385.71 2354.28 2381.18  1167901\n",
              "...            ...     ...     ...     ...      ...\n",
              "2016-06-15  734.92  736.96  731.31  732.19   731766\n",
              "2016-06-14  729.31  736.00  726.50  733.25   877264\n",
              "2016-06-13  729.82  739.00  729.82  731.88   746805\n",
              "2016-06-10  735.95  739.64  730.51  733.19  1242152\n",
              "2016-06-09  737.07  743.93  736.50  742.52   619331\n",
              "\n",
              "[1257 rows x 5 columns]"
            ]
          },
          "metadata": {
            "tags": []
          },
          "execution_count": 27
        }
      ]
    },
    {
      "cell_type": "markdown",
      "metadata": {
        "id": "J9pY1rtr1sC0"
      },
      "source": [
        "### <a name='2'></a> Ćwiczenie 122\n",
        "Wyświetl podstawowe informacje na temat obiektu _google_."
      ]
    },
    {
      "cell_type": "code",
      "metadata": {
        "id": "0QE4WiIDeGqy",
        "colab": {
          "base_uri": "https://localhost:8080/"
        },
        "outputId": "845ad0e8-0057-4d40-b293-2168b1ad84b0"
      },
      "source": [
        "# tutaj wpisz rozwiązanie\n",
        "google.info()"
      ],
      "execution_count": 28,
      "outputs": [
        {
          "output_type": "stream",
          "text": [
            "<class 'pandas.core.frame.DataFrame'>\n",
            "DatetimeIndex: 1257 entries, 2021-06-07 to 2016-06-09\n",
            "Data columns (total 5 columns):\n",
            " #   Column  Non-Null Count  Dtype  \n",
            "---  ------  --------------  -----  \n",
            " 0   Open    1257 non-null   float64\n",
            " 1   High    1257 non-null   float64\n",
            " 2   Low     1257 non-null   float64\n",
            " 3   Close   1257 non-null   float64\n",
            " 4   Volume  1257 non-null   int64  \n",
            "dtypes: float64(4), int64(1)\n",
            "memory usage: 58.9 KB\n"
          ],
          "name": "stdout"
        }
      ]
    },
    {
      "cell_type": "markdown",
      "metadata": {
        "id": "yic8GlyieMAv"
      },
      "source": [
        "Wyświetl podstawowe statystyki o obiekcie _google_."
      ]
    },
    {
      "cell_type": "code",
      "metadata": {
        "id": "8CiWPVl0eJ2B",
        "colab": {
          "base_uri": "https://localhost:8080/",
          "height": 297
        },
        "outputId": "f3cb4332-bc67-40f6-a764-67fdcc178447"
      },
      "source": [
        "# tutaj wpisz rozwiązanie\n",
        "google.describe()"
      ],
      "execution_count": 29,
      "outputs": [
        {
          "output_type": "execute_result",
          "data": {
            "text/html": [
              "<div>\n",
              "<style scoped>\n",
              "    .dataframe tbody tr th:only-of-type {\n",
              "        vertical-align: middle;\n",
              "    }\n",
              "\n",
              "    .dataframe tbody tr th {\n",
              "        vertical-align: top;\n",
              "    }\n",
              "\n",
              "    .dataframe thead th {\n",
              "        text-align: right;\n",
              "    }\n",
              "</style>\n",
              "<table border=\"1\" class=\"dataframe\">\n",
              "  <thead>\n",
              "    <tr style=\"text-align: right;\">\n",
              "      <th></th>\n",
              "      <th>Open</th>\n",
              "      <th>High</th>\n",
              "      <th>Low</th>\n",
              "      <th>Close</th>\n",
              "      <th>Volume</th>\n",
              "    </tr>\n",
              "  </thead>\n",
              "  <tbody>\n",
              "    <tr>\n",
              "      <th>count</th>\n",
              "      <td>1257.00</td>\n",
              "      <td>1257.00</td>\n",
              "      <td>1257.00</td>\n",
              "      <td>1257.00</td>\n",
              "      <td>1257.00</td>\n",
              "    </tr>\n",
              "    <tr>\n",
              "      <th>mean</th>\n",
              "      <td>1216.46</td>\n",
              "      <td>1228.44</td>\n",
              "      <td>1204.82</td>\n",
              "      <td>1217.13</td>\n",
              "      <td>1737093.97</td>\n",
              "    </tr>\n",
              "    <tr>\n",
              "      <th>std</th>\n",
              "      <td>365.46</td>\n",
              "      <td>370.38</td>\n",
              "      <td>361.50</td>\n",
              "      <td>366.08</td>\n",
              "      <td>826535.24</td>\n",
              "    </tr>\n",
              "    <tr>\n",
              "      <th>min</th>\n",
              "      <td>682.49</td>\n",
              "      <td>683.33</td>\n",
              "      <td>672.66</td>\n",
              "      <td>681.14</td>\n",
              "      <td>465638.00</td>\n",
              "    </tr>\n",
              "    <tr>\n",
              "      <th>25%</th>\n",
              "      <td>975.50</td>\n",
              "      <td>980.79</td>\n",
              "      <td>970.27</td>\n",
              "      <td>976.62</td>\n",
              "      <td>1214469.00</td>\n",
              "    </tr>\n",
              "    <tr>\n",
              "      <th>50%</th>\n",
              "      <td>1136.00</td>\n",
              "      <td>1147.00</td>\n",
              "      <td>1123.60</td>\n",
              "      <td>1136.59</td>\n",
              "      <td>1535337.00</td>\n",
              "    </tr>\n",
              "    <tr>\n",
              "      <th>75%</th>\n",
              "      <td>1357.00</td>\n",
              "      <td>1368.69</td>\n",
              "      <td>1346.49</td>\n",
              "      <td>1356.44</td>\n",
              "      <td>1983318.00</td>\n",
              "    </tr>\n",
              "    <tr>\n",
              "      <th>max</th>\n",
              "      <td>2392.50</td>\n",
              "      <td>2431.38</td>\n",
              "      <td>2381.00</td>\n",
              "      <td>2402.30</td>\n",
              "      <td>6658855.00</td>\n",
              "    </tr>\n",
              "  </tbody>\n",
              "</table>\n",
              "</div>"
            ],
            "text/plain": [
              "         Open    High     Low   Close     Volume\n",
              "count 1257.00 1257.00 1257.00 1257.00    1257.00\n",
              "mean  1216.46 1228.44 1204.82 1217.13 1737093.97\n",
              "std    365.46  370.38  361.50  366.08  826535.24\n",
              "min    682.49  683.33  672.66  681.14  465638.00\n",
              "25%    975.50  980.79  970.27  976.62 1214469.00\n",
              "50%   1136.00 1147.00 1123.60 1136.59 1535337.00\n",
              "75%   1357.00 1368.69 1346.49 1356.44 1983318.00\n",
              "max   2392.50 2431.38 2381.00 2402.30 6658855.00"
            ]
          },
          "metadata": {
            "tags": []
          },
          "execution_count": 29
        }
      ]
    },
    {
      "cell_type": "markdown",
      "metadata": {
        "id": "OwKsy3HRf1Z5"
      },
      "source": [
        "Zwróć uwagę na precyzję zapisu poszczególnych statystyk.\n",
        "Spróbuj ustawić odpowiednie opcje biblioteki _pandas_, tak aby wyświetlać dane z dokładnością do dwóch miejsc po przecinku.\n",
        "\n",
        "__Wskazówka:__ \n",
        "https://pandas.pydata.org/pandas-docs/stable/user_guide/options.html"
      ]
    },
    {
      "cell_type": "code",
      "metadata": {
        "id": "mskz01W_gCy0"
      },
      "source": [
        "# tutaj wpisz rozwiązanie\n",
        "pd.set_option('precision', 2) #zaokrąglenie do 2 miejsca po przecinku"
      ],
      "execution_count": 30,
      "outputs": []
    },
    {
      "cell_type": "markdown",
      "metadata": {
        "id": "iEXHrwHwheyo"
      },
      "source": [
        "__Dodatkowo:__\n",
        "Poniższe ustawienie stłumi także notację wykładniczą (patrz kolumna _Volume_)."
      ]
    },
    {
      "cell_type": "code",
      "metadata": {
        "id": "qdosioVRhGfC",
        "colab": {
          "base_uri": "https://localhost:8080/",
          "height": 297
        },
        "outputId": "639cfa4e-ad52-441d-83ef-832efa693ed5"
      },
      "source": [
        "pd.options.display.float_format = '{:.2f}'.format\n",
        "google.describe()"
      ],
      "execution_count": 31,
      "outputs": [
        {
          "output_type": "execute_result",
          "data": {
            "text/html": [
              "<div>\n",
              "<style scoped>\n",
              "    .dataframe tbody tr th:only-of-type {\n",
              "        vertical-align: middle;\n",
              "    }\n",
              "\n",
              "    .dataframe tbody tr th {\n",
              "        vertical-align: top;\n",
              "    }\n",
              "\n",
              "    .dataframe thead th {\n",
              "        text-align: right;\n",
              "    }\n",
              "</style>\n",
              "<table border=\"1\" class=\"dataframe\">\n",
              "  <thead>\n",
              "    <tr style=\"text-align: right;\">\n",
              "      <th></th>\n",
              "      <th>Open</th>\n",
              "      <th>High</th>\n",
              "      <th>Low</th>\n",
              "      <th>Close</th>\n",
              "      <th>Volume</th>\n",
              "    </tr>\n",
              "  </thead>\n",
              "  <tbody>\n",
              "    <tr>\n",
              "      <th>count</th>\n",
              "      <td>1257.00</td>\n",
              "      <td>1257.00</td>\n",
              "      <td>1257.00</td>\n",
              "      <td>1257.00</td>\n",
              "      <td>1257.00</td>\n",
              "    </tr>\n",
              "    <tr>\n",
              "      <th>mean</th>\n",
              "      <td>1216.46</td>\n",
              "      <td>1228.44</td>\n",
              "      <td>1204.82</td>\n",
              "      <td>1217.13</td>\n",
              "      <td>1737093.97</td>\n",
              "    </tr>\n",
              "    <tr>\n",
              "      <th>std</th>\n",
              "      <td>365.46</td>\n",
              "      <td>370.38</td>\n",
              "      <td>361.50</td>\n",
              "      <td>366.08</td>\n",
              "      <td>826535.24</td>\n",
              "    </tr>\n",
              "    <tr>\n",
              "      <th>min</th>\n",
              "      <td>682.49</td>\n",
              "      <td>683.33</td>\n",
              "      <td>672.66</td>\n",
              "      <td>681.14</td>\n",
              "      <td>465638.00</td>\n",
              "    </tr>\n",
              "    <tr>\n",
              "      <th>25%</th>\n",
              "      <td>975.50</td>\n",
              "      <td>980.79</td>\n",
              "      <td>970.27</td>\n",
              "      <td>976.62</td>\n",
              "      <td>1214469.00</td>\n",
              "    </tr>\n",
              "    <tr>\n",
              "      <th>50%</th>\n",
              "      <td>1136.00</td>\n",
              "      <td>1147.00</td>\n",
              "      <td>1123.60</td>\n",
              "      <td>1136.59</td>\n",
              "      <td>1535337.00</td>\n",
              "    </tr>\n",
              "    <tr>\n",
              "      <th>75%</th>\n",
              "      <td>1357.00</td>\n",
              "      <td>1368.69</td>\n",
              "      <td>1346.49</td>\n",
              "      <td>1356.44</td>\n",
              "      <td>1983318.00</td>\n",
              "    </tr>\n",
              "    <tr>\n",
              "      <th>max</th>\n",
              "      <td>2392.50</td>\n",
              "      <td>2431.38</td>\n",
              "      <td>2381.00</td>\n",
              "      <td>2402.30</td>\n",
              "      <td>6658855.00</td>\n",
              "    </tr>\n",
              "  </tbody>\n",
              "</table>\n",
              "</div>"
            ],
            "text/plain": [
              "         Open    High     Low   Close     Volume\n",
              "count 1257.00 1257.00 1257.00 1257.00    1257.00\n",
              "mean  1216.46 1228.44 1204.82 1217.13 1737093.97\n",
              "std    365.46  370.38  361.50  366.08  826535.24\n",
              "min    682.49  683.33  672.66  681.14  465638.00\n",
              "25%    975.50  980.79  970.27  976.62 1214469.00\n",
              "50%   1136.00 1147.00 1123.60 1136.59 1535337.00\n",
              "75%   1357.00 1368.69 1346.49 1356.44 1983318.00\n",
              "max   2392.50 2431.38 2381.00 2402.30 6658855.00"
            ]
          },
          "metadata": {
            "tags": []
          },
          "execution_count": 31
        }
      ]
    },
    {
      "cell_type": "markdown",
      "metadata": {
        "id": "p12duQuPlWSU"
      },
      "source": [
        "Zbuduj wykres ceny zamknięcia (_Close_) dla obiektu _google_."
      ]
    },
    {
      "cell_type": "code",
      "metadata": {
        "id": "tmpm-uiAlKgv",
        "colab": {
          "base_uri": "https://localhost:8080/",
          "height": 293
        },
        "outputId": "0adb470e-72c2-4b5d-8337-d7f0c92e1501"
      },
      "source": [
        "# tutaj wpisz rozwiązanie\n",
        "google['Close'].plot()"
      ],
      "execution_count": 32,
      "outputs": [
        {
          "output_type": "execute_result",
          "data": {
            "text/plain": [
              "<matplotlib.axes._subplots.AxesSubplot at 0x7fe22d685710>"
            ]
          },
          "metadata": {
            "tags": []
          },
          "execution_count": 32
        },
        {
          "output_type": "display_data",
          "data": {
            "image/png": "[encoded data removed]",
            "text/plain": [
              "<Figure size 432x288 with 1 Axes>"
            ]
          },
          "metadata": {
            "tags": []
          }
        }
      ]
    },
    {
      "cell_type": "markdown",
      "metadata": {
        "id": "XQLYT2m11wVG"
      },
      "source": [
        "### <a name='3'></a> Ćwiczenie 123\n",
        "Zamień indeks _Date_ na kolumnę. Przypisz trwale zmiany do zniennej _google_."
      ]
    },
    {
      "cell_type": "code",
      "metadata": {
        "id": "Ac1OnxjOh3fa",
        "colab": {
          "base_uri": "https://localhost:8080/",
          "height": 419
        },
        "outputId": "9e215777-b13b-47e0-aa8d-e844fa334a5f"
      },
      "source": [
        "# tutaj wpisz rozwiązanie\n",
        "google = google.reset_index()\n",
        "google"
      ],
      "execution_count": 33,
      "outputs": [
        {
          "output_type": "execute_result",
          "data": {
            "text/html": [
              "<div>\n",
              "<style scoped>\n",
              "    .dataframe tbody tr th:only-of-type {\n",
              "        vertical-align: middle;\n",
              "    }\n",
              "\n",
              "    .dataframe tbody tr th {\n",
              "        vertical-align: top;\n",
              "    }\n",
              "\n",
              "    .dataframe thead th {\n",
              "        text-align: right;\n",
              "    }\n",
              "</style>\n",
              "<table border=\"1\" class=\"dataframe\">\n",
              "  <thead>\n",
              "    <tr style=\"text-align: right;\">\n",
              "      <th></th>\n",
              "      <th>Date</th>\n",
              "      <th>Open</th>\n",
              "      <th>High</th>\n",
              "      <th>Low</th>\n",
              "      <th>Close</th>\n",
              "      <th>Volume</th>\n",
              "    </tr>\n",
              "  </thead>\n",
              "  <tbody>\n",
              "    <tr>\n",
              "      <th>0</th>\n",
              "      <td>2021-06-07</td>\n",
              "      <td>2389.44</td>\n",
              "      <td>2404.51</td>\n",
              "      <td>2381.00</td>\n",
              "      <td>2402.30</td>\n",
              "      <td>1205966</td>\n",
              "    </tr>\n",
              "    <tr>\n",
              "      <th>1</th>\n",
              "      <td>2021-06-04</td>\n",
              "      <td>2369.27</td>\n",
              "      <td>2399.03</td>\n",
              "      <td>2362.41</td>\n",
              "      <td>2393.57</td>\n",
              "      <td>1222910</td>\n",
              "    </tr>\n",
              "    <tr>\n",
              "      <th>2</th>\n",
              "      <td>2021-06-03</td>\n",
              "      <td>2345.73</td>\n",
              "      <td>2357.01</td>\n",
              "      <td>2329.52</td>\n",
              "      <td>2347.58</td>\n",
              "      <td>934796</td>\n",
              "    </tr>\n",
              "    <tr>\n",
              "      <th>3</th>\n",
              "      <td>2021-06-02</td>\n",
              "      <td>2389.15</td>\n",
              "      <td>2393.64</td>\n",
              "      <td>2352.36</td>\n",
              "      <td>2370.59</td>\n",
              "      <td>1058146</td>\n",
              "    </tr>\n",
              "    <tr>\n",
              "      <th>4</th>\n",
              "      <td>2021-06-01</td>\n",
              "      <td>2374.44</td>\n",
              "      <td>2385.71</td>\n",
              "      <td>2354.28</td>\n",
              "      <td>2381.18</td>\n",
              "      <td>1167901</td>\n",
              "    </tr>\n",
              "    <tr>\n",
              "      <th>...</th>\n",
              "      <td>...</td>\n",
              "      <td>...</td>\n",
              "      <td>...</td>\n",
              "      <td>...</td>\n",
              "      <td>...</td>\n",
              "      <td>...</td>\n",
              "    </tr>\n",
              "    <tr>\n",
              "      <th>1252</th>\n",
              "      <td>2016-06-15</td>\n",
              "      <td>734.92</td>\n",
              "      <td>736.96</td>\n",
              "      <td>731.31</td>\n",
              "      <td>732.19</td>\n",
              "      <td>731766</td>\n",
              "    </tr>\n",
              "    <tr>\n",
              "      <th>1253</th>\n",
              "      <td>2016-06-14</td>\n",
              "      <td>729.31</td>\n",
              "      <td>736.00</td>\n",
              "      <td>726.50</td>\n",
              "      <td>733.25</td>\n",
              "      <td>877264</td>\n",
              "    </tr>\n",
              "    <tr>\n",
              "      <th>1254</th>\n",
              "      <td>2016-06-13</td>\n",
              "      <td>729.82</td>\n",
              "      <td>739.00</td>\n",
              "      <td>729.82</td>\n",
              "      <td>731.88</td>\n",
              "      <td>746805</td>\n",
              "    </tr>\n",
              "    <tr>\n",
              "      <th>1255</th>\n",
              "      <td>2016-06-10</td>\n",
              "      <td>735.95</td>\n",
              "      <td>739.64</td>\n",
              "      <td>730.51</td>\n",
              "      <td>733.19</td>\n",
              "      <td>1242152</td>\n",
              "    </tr>\n",
              "    <tr>\n",
              "      <th>1256</th>\n",
              "      <td>2016-06-09</td>\n",
              "      <td>737.07</td>\n",
              "      <td>743.93</td>\n",
              "      <td>736.50</td>\n",
              "      <td>742.52</td>\n",
              "      <td>619331</td>\n",
              "    </tr>\n",
              "  </tbody>\n",
              "</table>\n",
              "<p>1257 rows × 6 columns</p>\n",
              "</div>"
            ],
            "text/plain": [
              "           Date    Open    High     Low   Close   Volume\n",
              "0    2021-06-07 2389.44 2404.51 2381.00 2402.30  1205966\n",
              "1    2021-06-04 2369.27 2399.03 2362.41 2393.57  1222910\n",
              "2    2021-06-03 2345.73 2357.01 2329.52 2347.58   934796\n",
              "3    2021-06-02 2389.15 2393.64 2352.36 2370.59  1058146\n",
              "4    2021-06-01 2374.44 2385.71 2354.28 2381.18  1167901\n",
              "...         ...     ...     ...     ...     ...      ...\n",
              "1252 2016-06-15  734.92  736.96  731.31  732.19   731766\n",
              "1253 2016-06-14  729.31  736.00  726.50  733.25   877264\n",
              "1254 2016-06-13  729.82  739.00  729.82  731.88   746805\n",
              "1255 2016-06-10  735.95  739.64  730.51  733.19  1242152\n",
              "1256 2016-06-09  737.07  743.93  736.50  742.52   619331\n",
              "\n",
              "[1257 rows x 6 columns]"
            ]
          },
          "metadata": {
            "tags": []
          },
          "execution_count": 33
        }
      ]
    },
    {
      "cell_type": "markdown",
      "metadata": {
        "id": "SRfQiXpGiXBc"
      },
      "source": [
        "Przypisz dwie nowe kolumny do obiektu _google_ dodając kolumnę z aktualnym numerem miesiąca o nazwie _'Month'_ oraz z rokiem o nazwie _'Year'_."
      ]
    },
    {
      "cell_type": "code",
      "metadata": {
        "id": "S32izk-BiL_q",
        "colab": {
          "base_uri": "https://localhost:8080/",
          "height": 419
        },
        "outputId": "a62e6074-66f4-4e26-fb02-ba78d08e3d5b"
      },
      "source": [
        "# tutaj wpisz rozwiązanie\n",
        "google['Month'] = google['Date'].dt.month\n",
        "google['Year'] = google['Date'].dt.year\n",
        "google"
      ],
      "execution_count": 34,
      "outputs": [
        {
          "output_type": "execute_result",
          "data": {
            "text/html": [
              "<div>\n",
              "<style scoped>\n",
              "    .dataframe tbody tr th:only-of-type {\n",
              "        vertical-align: middle;\n",
              "    }\n",
              "\n",
              "    .dataframe tbody tr th {\n",
              "        vertical-align: top;\n",
              "    }\n",
              "\n",
              "    .dataframe thead th {\n",
              "        text-align: right;\n",
              "    }\n",
              "</style>\n",
              "<table border=\"1\" class=\"dataframe\">\n",
              "  <thead>\n",
              "    <tr style=\"text-align: right;\">\n",
              "      <th></th>\n",
              "      <th>Date</th>\n",
              "      <th>Open</th>\n",
              "      <th>High</th>\n",
              "      <th>Low</th>\n",
              "      <th>Close</th>\n",
              "      <th>Volume</th>\n",
              "      <th>Month</th>\n",
              "      <th>Year</th>\n",
              "    </tr>\n",
              "  </thead>\n",
              "  <tbody>\n",
              "    <tr>\n",
              "      <th>0</th>\n",
              "      <td>2021-06-07</td>\n",
              "      <td>2389.44</td>\n",
              "      <td>2404.51</td>\n",
              "      <td>2381.00</td>\n",
              "      <td>2402.30</td>\n",
              "      <td>1205966</td>\n",
              "      <td>6</td>\n",
              "      <td>2021</td>\n",
              "    </tr>\n",
              "    <tr>\n",
              "      <th>1</th>\n",
              "      <td>2021-06-04</td>\n",
              "      <td>2369.27</td>\n",
              "      <td>2399.03</td>\n",
              "      <td>2362.41</td>\n",
              "      <td>2393.57</td>\n",
              "      <td>1222910</td>\n",
              "      <td>6</td>\n",
              "      <td>2021</td>\n",
              "    </tr>\n",
              "    <tr>\n",
              "      <th>2</th>\n",
              "      <td>2021-06-03</td>\n",
              "      <td>2345.73</td>\n",
              "      <td>2357.01</td>\n",
              "      <td>2329.52</td>\n",
              "      <td>2347.58</td>\n",
              "      <td>934796</td>\n",
              "      <td>6</td>\n",
              "      <td>2021</td>\n",
              "    </tr>\n",
              "    <tr>\n",
              "      <th>3</th>\n",
              "      <td>2021-06-02</td>\n",
              "      <td>2389.15</td>\n",
              "      <td>2393.64</td>\n",
              "      <td>2352.36</td>\n",
              "      <td>2370.59</td>\n",
              "      <td>1058146</td>\n",
              "      <td>6</td>\n",
              "      <td>2021</td>\n",
              "    </tr>\n",
              "    <tr>\n",
              "      <th>4</th>\n",
              "      <td>2021-06-01</td>\n",
              "      <td>2374.44</td>\n",
              "      <td>2385.71</td>\n",
              "      <td>2354.28</td>\n",
              "      <td>2381.18</td>\n",
              "      <td>1167901</td>\n",
              "      <td>6</td>\n",
              "      <td>2021</td>\n",
              "    </tr>\n",
              "    <tr>\n",
              "      <th>...</th>\n",
              "      <td>...</td>\n",
              "      <td>...</td>\n",
              "      <td>...</td>\n",
              "      <td>...</td>\n",
              "      <td>...</td>\n",
              "      <td>...</td>\n",
              "      <td>...</td>\n",
              "      <td>...</td>\n",
              "    </tr>\n",
              "    <tr>\n",
              "      <th>1252</th>\n",
              "      <td>2016-06-15</td>\n",
              "      <td>734.92</td>\n",
              "      <td>736.96</td>\n",
              "      <td>731.31</td>\n",
              "      <td>732.19</td>\n",
              "      <td>731766</td>\n",
              "      <td>6</td>\n",
              "      <td>2016</td>\n",
              "    </tr>\n",
              "    <tr>\n",
              "      <th>1253</th>\n",
              "      <td>2016-06-14</td>\n",
              "      <td>729.31</td>\n",
              "      <td>736.00</td>\n",
              "      <td>726.50</td>\n",
              "      <td>733.25</td>\n",
              "      <td>877264</td>\n",
              "      <td>6</td>\n",
              "      <td>2016</td>\n",
              "    </tr>\n",
              "    <tr>\n",
              "      <th>1254</th>\n",
              "      <td>2016-06-13</td>\n",
              "      <td>729.82</td>\n",
              "      <td>739.00</td>\n",
              "      <td>729.82</td>\n",
              "      <td>731.88</td>\n",
              "      <td>746805</td>\n",
              "      <td>6</td>\n",
              "      <td>2016</td>\n",
              "    </tr>\n",
              "    <tr>\n",
              "      <th>1255</th>\n",
              "      <td>2016-06-10</td>\n",
              "      <td>735.95</td>\n",
              "      <td>739.64</td>\n",
              "      <td>730.51</td>\n",
              "      <td>733.19</td>\n",
              "      <td>1242152</td>\n",
              "      <td>6</td>\n",
              "      <td>2016</td>\n",
              "    </tr>\n",
              "    <tr>\n",
              "      <th>1256</th>\n",
              "      <td>2016-06-09</td>\n",
              "      <td>737.07</td>\n",
              "      <td>743.93</td>\n",
              "      <td>736.50</td>\n",
              "      <td>742.52</td>\n",
              "      <td>619331</td>\n",
              "      <td>6</td>\n",
              "      <td>2016</td>\n",
              "    </tr>\n",
              "  </tbody>\n",
              "</table>\n",
              "<p>1257 rows × 8 columns</p>\n",
              "</div>"
            ],
            "text/plain": [
              "           Date    Open    High     Low   Close   Volume  Month  Year\n",
              "0    2021-06-07 2389.44 2404.51 2381.00 2402.30  1205966      6  2021\n",
              "1    2021-06-04 2369.27 2399.03 2362.41 2393.57  1222910      6  2021\n",
              "2    2021-06-03 2345.73 2357.01 2329.52 2347.58   934796      6  2021\n",
              "3    2021-06-02 2389.15 2393.64 2352.36 2370.59  1058146      6  2021\n",
              "4    2021-06-01 2374.44 2385.71 2354.28 2381.18  1167901      6  2021\n",
              "...         ...     ...     ...     ...     ...      ...    ...   ...\n",
              "1252 2016-06-15  734.92  736.96  731.31  732.19   731766      6  2016\n",
              "1253 2016-06-14  729.31  736.00  726.50  733.25   877264      6  2016\n",
              "1254 2016-06-13  729.82  739.00  729.82  731.88   746805      6  2016\n",
              "1255 2016-06-10  735.95  739.64  730.51  733.19  1242152      6  2016\n",
              "1256 2016-06-09  737.07  743.93  736.50  742.52   619331      6  2016\n",
              "\n",
              "[1257 rows x 8 columns]"
            ]
          },
          "metadata": {
            "tags": []
          },
          "execution_count": 34
        }
      ]
    },
    {
      "cell_type": "markdown",
      "metadata": {
        "id": "4xTKSUzg10MK"
      },
      "source": [
        "### <a name='4'></a> Ćwiczenie 124\n",
        "Policz średnią cenę zamknięcia (_Close_) dla poszczególnego roku (pogrupuj dane po roku - kolumna _Year_ i następnie policz wartość średnią)."
      ]
    },
    {
      "cell_type": "code",
      "metadata": {
        "id": "wSFs7z0Qi3Y7",
        "colab": {
          "base_uri": "https://localhost:8080/"
        },
        "outputId": "37eaa467-46f2-4463-ae4f-cd423f86bcc6"
      },
      "source": [
        "# tutaj wpisz rozwiązanie\n",
        "google.groupby('Year')['Close'].mean()"
      ],
      "execution_count": 35,
      "outputs": [
        {
          "output_type": "execute_result",
          "data": {
            "text/plain": [
              "Year\n",
              "2016    782.08\n",
              "2017    939.77\n",
              "2018   1122.05\n",
              "2019   1191.22\n",
              "2020   1478.99\n",
              "2021   2114.05\n",
              "Name: Close, dtype: float64"
            ]
          },
          "metadata": {
            "tags": []
          },
          "execution_count": 35
        }
      ]
    },
    {
      "cell_type": "markdown",
      "metadata": {
        "id": "DSqQjdS4j-wl"
      },
      "source": [
        "Otrzymane wartości przedstaw na wykresie wykorzystując metodę _plot()_."
      ]
    },
    {
      "cell_type": "code",
      "metadata": {
        "id": "0nBtvC2tjaTK",
        "colab": {
          "base_uri": "https://localhost:8080/",
          "height": 302
        },
        "outputId": "c0f747ef-4981-4ca1-8ec7-050f7f3ce7fe"
      },
      "source": [
        "# tutaj wpisz rozwiązanie\n",
        "google.groupby('Year')['Close'].mean().plot()"
      ],
      "execution_count": 36,
      "outputs": [
        {
          "output_type": "execute_result",
          "data": {
            "text/plain": [
              "<matplotlib.axes._subplots.AxesSubplot at 0x7fe22d59eb10>"
            ]
          },
          "metadata": {
            "tags": []
          },
          "execution_count": 36
        },
        {
          "output_type": "display_data",
          "data": {
            "image/png": "[encoded data removed]",
            "text/plain": [
              "<Figure size 432x288 with 1 Axes>"
            ]
          },
          "metadata": {
            "tags": []
          }
        }
      ]
    },
    {
      "cell_type": "markdown",
      "metadata": {
        "id": "RduPz9PDkR2-"
      },
      "source": [
        "Policz średnią cenę zamknięcia (_Close_) dla miesiąca (pogrupuj dane po miesiącu - kolumna _Month_ i następnie policz wartość średnią)."
      ]
    },
    {
      "cell_type": "code",
      "metadata": {
        "id": "4Vd83xT_kIsg",
        "colab": {
          "base_uri": "https://localhost:8080/"
        },
        "outputId": "2ce4c8c5-1e0b-4738-f934-afc14bf2014c"
      },
      "source": [
        "# tutaj wpisz rozwiązanie\n",
        "google.groupby('Month')['Close'].mean()"
      ],
      "execution_count": 37,
      "outputs": [
        {
          "output_type": "execute_result",
          "data": {
            "text/plain": [
              "Month\n",
              "1    1250.95\n",
              "2    1314.21\n",
              "3    1278.61\n",
              "4    1336.22\n",
              "5    1358.70\n",
              "6    1150.94\n",
              "7    1123.99\n",
              "8    1133.65\n",
              "9    1133.02\n",
              "10   1145.27\n",
              "11   1182.34\n",
              "12   1212.18\n",
              "Name: Close, dtype: float64"
            ]
          },
          "metadata": {
            "tags": []
          },
          "execution_count": 37
        }
      ]
    },
    {
      "cell_type": "markdown",
      "metadata": {
        "id": "ytITHhjjkaoO"
      },
      "source": [
        "Otrzymane wartości przedstaw na wykresie wykorzystując metodę _plot()_.\n",
        "Zauważ, które miesiące mogą wskazywać na słabsze okresy na giełdzie."
      ]
    },
    {
      "cell_type": "code",
      "metadata": {
        "id": "ob02yPQRkK3E",
        "colab": {
          "base_uri": "https://localhost:8080/",
          "height": 302
        },
        "outputId": "fcee1779-b3f4-449e-eebd-79bebd860129"
      },
      "source": [
        "# tutaj wpisz rozwiązanie\n",
        "google.groupby('Month')['Close'].mean().plot()"
      ],
      "execution_count": 38,
      "outputs": [
        {
          "output_type": "execute_result",
          "data": {
            "text/plain": [
              "<matplotlib.axes._subplots.AxesSubplot at 0x7fe22d5aae10>"
            ]
          },
          "metadata": {
            "tags": []
          },
          "execution_count": 38
        },
        {
          "output_type": "display_data",
          "data": {
            "image/png": "[encoded data removed]",
            "text/plain": [
              "<Figure size 432x288 with 1 Axes>"
            ]
          },
          "metadata": {
            "tags": []
          }
        }
      ]
    },
    {
      "cell_type": "markdown",
      "metadata": {
        "id": "o3HKIKlP15Ro"
      },
      "source": [
        "### <a name='5'></a> Ćwiczenie 125\n",
        "Pogrupuj dane z obiektu _google_ na poziomie roku i miesiąca. Następnie policz wartość średnią."
      ]
    },
    {
      "cell_type": "code",
      "metadata": {
        "id": "DptCcOtNkokd",
        "colab": {
          "base_uri": "https://localhost:8080/"
        },
        "outputId": "6eb69ade-9e3b-4aaa-dff7-46e295488d95"
      },
      "source": [
        "# tutaj wpisz rozwiązanie\n",
        "google.groupby(['Year', 'Month'])['Close'].mean()"
      ],
      "execution_count": 39,
      "outputs": [
        {
          "output_type": "execute_result",
          "data": {
            "text/plain": [
              "Year  Month\n",
              "2016  6        712.41\n",
              "      7        741.06\n",
              "      8        800.22\n",
              "      9        801.61\n",
              "      10       813.66\n",
              "                ...  \n",
              "2021  2       2058.09\n",
              "      3       2047.67\n",
              "      4       2272.99\n",
              "      5       2308.56\n",
              "      6       2379.04\n",
              "Name: Close, Length: 61, dtype: float64"
            ]
          },
          "metadata": {
            "tags": []
          },
          "execution_count": 39
        }
      ]
    },
    {
      "cell_type": "markdown",
      "metadata": {
        "id": "PunXd_Ey16so"
      },
      "source": [
        "### <a name='6'></a> Ćwiczenie 126\n",
        "Znajdź indeks dla którego kolumna _Close_ przyjmuje wartość największą."
      ]
    },
    {
      "cell_type": "code",
      "metadata": {
        "id": "PIUT3b7Rm7v1",
        "colab": {
          "base_uri": "https://localhost:8080/"
        },
        "outputId": "5a629c00-a876-4cd1-c10c-2f94c811d043"
      },
      "source": [
        "# tutaj wpisz rozwiązanie\n",
        "google['Close'].argmax()"
      ],
      "execution_count": 40,
      "outputs": [
        {
          "output_type": "execute_result",
          "data": {
            "text/plain": [
              "0"
            ]
          },
          "metadata": {
            "tags": []
          },
          "execution_count": 40
        }
      ]
    },
    {
      "cell_type": "markdown",
      "metadata": {
        "id": "WETiC6NEnPm0"
      },
      "source": [
        "Wytnij wiersz dla tego indeksu z obiektu _google_ jako obiekt DataFrame. Odczytaj datę."
      ]
    },
    {
      "cell_type": "code",
      "metadata": {
        "id": "XccuGttMnL_d",
        "colab": {
          "base_uri": "https://localhost:8080/",
          "height": 80
        },
        "outputId": "d68d4021-6436-4f41-a727-a8415274e81f"
      },
      "source": [
        "# tutaj wpisz rozwiązanie\n",
        "google.iloc[[google['Close'].argmax()]] #przekazujemy to jako zestaw indeksów w []"
      ],
      "execution_count": 41,
      "outputs": [
        {
          "output_type": "execute_result",
          "data": {
            "text/html": [
              "<div>\n",
              "<style scoped>\n",
              "    .dataframe tbody tr th:only-of-type {\n",
              "        vertical-align: middle;\n",
              "    }\n",
              "\n",
              "    .dataframe tbody tr th {\n",
              "        vertical-align: top;\n",
              "    }\n",
              "\n",
              "    .dataframe thead th {\n",
              "        text-align: right;\n",
              "    }\n",
              "</style>\n",
              "<table border=\"1\" class=\"dataframe\">\n",
              "  <thead>\n",
              "    <tr style=\"text-align: right;\">\n",
              "      <th></th>\n",
              "      <th>Date</th>\n",
              "      <th>Open</th>\n",
              "      <th>High</th>\n",
              "      <th>Low</th>\n",
              "      <th>Close</th>\n",
              "      <th>Volume</th>\n",
              "      <th>Month</th>\n",
              "      <th>Year</th>\n",
              "    </tr>\n",
              "  </thead>\n",
              "  <tbody>\n",
              "    <tr>\n",
              "      <th>0</th>\n",
              "      <td>2021-06-07</td>\n",
              "      <td>2389.44</td>\n",
              "      <td>2404.51</td>\n",
              "      <td>2381.00</td>\n",
              "      <td>2402.30</td>\n",
              "      <td>1205966</td>\n",
              "      <td>6</td>\n",
              "      <td>2021</td>\n",
              "    </tr>\n",
              "  </tbody>\n",
              "</table>\n",
              "</div>"
            ],
            "text/plain": [
              "        Date    Open    High     Low   Close   Volume  Month  Year\n",
              "0 2021-06-07 2389.44 2404.51 2381.00 2402.30  1205966      6  2021"
            ]
          },
          "metadata": {
            "tags": []
          },
          "execution_count": 41
        }
      ]
    },
    {
      "cell_type": "markdown",
      "metadata": {
        "id": "hOhqDRz618Tx"
      },
      "source": [
        "### <a name='7'></a> Ćwiczenie 127\n",
        "Z obiektu _google_ wytnij kolumny _Date_, _Open_, _Close_, _Volume_.\n",
        "Nie zmieniaj pierwotnego obiektu _google_!\n"
      ]
    },
    {
      "cell_type": "code",
      "metadata": {
        "id": "P17Vtv4imw28",
        "colab": {
          "base_uri": "https://localhost:8080/",
          "height": 419
        },
        "outputId": "0152d7d3-186e-4fc1-d116-73ab70f3b10f"
      },
      "source": [
        "# tutaj wpisz rozwiązanie\n",
        "google[['Date', 'Open', 'Close', 'Volume']]"
      ],
      "execution_count": 42,
      "outputs": [
        {
          "output_type": "execute_result",
          "data": {
            "text/html": [
              "<div>\n",
              "<style scoped>\n",
              "    .dataframe tbody tr th:only-of-type {\n",
              "        vertical-align: middle;\n",
              "    }\n",
              "\n",
              "    .dataframe tbody tr th {\n",
              "        vertical-align: top;\n",
              "    }\n",
              "\n",
              "    .dataframe thead th {\n",
              "        text-align: right;\n",
              "    }\n",
              "</style>\n",
              "<table border=\"1\" class=\"dataframe\">\n",
              "  <thead>\n",
              "    <tr style=\"text-align: right;\">\n",
              "      <th></th>\n",
              "      <th>Date</th>\n",
              "      <th>Open</th>\n",
              "      <th>Close</th>\n",
              "      <th>Volume</th>\n",
              "    </tr>\n",
              "  </thead>\n",
              "  <tbody>\n",
              "    <tr>\n",
              "      <th>0</th>\n",
              "      <td>2021-06-07</td>\n",
              "      <td>2389.44</td>\n",
              "      <td>2402.30</td>\n",
              "      <td>1205966</td>\n",
              "    </tr>\n",
              "    <tr>\n",
              "      <th>1</th>\n",
              "      <td>2021-06-04</td>\n",
              "      <td>2369.27</td>\n",
              "      <td>2393.57</td>\n",
              "      <td>1222910</td>\n",
              "    </tr>\n",
              "    <tr>\n",
              "      <th>2</th>\n",
              "      <td>2021-06-03</td>\n",
              "      <td>2345.73</td>\n",
              "      <td>2347.58</td>\n",
              "      <td>934796</td>\n",
              "    </tr>\n",
              "    <tr>\n",
              "      <th>3</th>\n",
              "      <td>2021-06-02</td>\n",
              "      <td>2389.15</td>\n",
              "      <td>2370.59</td>\n",
              "      <td>1058146</td>\n",
              "    </tr>\n",
              "    <tr>\n",
              "      <th>4</th>\n",
              "      <td>2021-06-01</td>\n",
              "      <td>2374.44</td>\n",
              "      <td>2381.18</td>\n",
              "      <td>1167901</td>\n",
              "    </tr>\n",
              "    <tr>\n",
              "      <th>...</th>\n",
              "      <td>...</td>\n",
              "      <td>...</td>\n",
              "      <td>...</td>\n",
              "      <td>...</td>\n",
              "    </tr>\n",
              "    <tr>\n",
              "      <th>1252</th>\n",
              "      <td>2016-06-15</td>\n",
              "      <td>734.92</td>\n",
              "      <td>732.19</td>\n",
              "      <td>731766</td>\n",
              "    </tr>\n",
              "    <tr>\n",
              "      <th>1253</th>\n",
              "      <td>2016-06-14</td>\n",
              "      <td>729.31</td>\n",
              "      <td>733.25</td>\n",
              "      <td>877264</td>\n",
              "    </tr>\n",
              "    <tr>\n",
              "      <th>1254</th>\n",
              "      <td>2016-06-13</td>\n",
              "      <td>729.82</td>\n",
              "      <td>731.88</td>\n",
              "      <td>746805</td>\n",
              "    </tr>\n",
              "    <tr>\n",
              "      <th>1255</th>\n",
              "      <td>2016-06-10</td>\n",
              "      <td>735.95</td>\n",
              "      <td>733.19</td>\n",
              "      <td>1242152</td>\n",
              "    </tr>\n",
              "    <tr>\n",
              "      <th>1256</th>\n",
              "      <td>2016-06-09</td>\n",
              "      <td>737.07</td>\n",
              "      <td>742.52</td>\n",
              "      <td>619331</td>\n",
              "    </tr>\n",
              "  </tbody>\n",
              "</table>\n",
              "<p>1257 rows × 4 columns</p>\n",
              "</div>"
            ],
            "text/plain": [
              "           Date    Open   Close   Volume\n",
              "0    2021-06-07 2389.44 2402.30  1205966\n",
              "1    2021-06-04 2369.27 2393.57  1222910\n",
              "2    2021-06-03 2345.73 2347.58   934796\n",
              "3    2021-06-02 2389.15 2370.59  1058146\n",
              "4    2021-06-01 2374.44 2381.18  1167901\n",
              "...         ...     ...     ...      ...\n",
              "1252 2016-06-15  734.92  732.19   731766\n",
              "1253 2016-06-14  729.31  733.25   877264\n",
              "1254 2016-06-13  729.82  731.88   746805\n",
              "1255 2016-06-10  735.95  733.19  1242152\n",
              "1256 2016-06-09  737.07  742.52   619331\n",
              "\n",
              "[1257 rows x 4 columns]"
            ]
          },
          "metadata": {
            "tags": []
          },
          "execution_count": 42
        }
      ]
    },
    {
      "cell_type": "markdown",
      "metadata": {
        "id": "TXUd_4631-gw"
      },
      "source": [
        "### <a name='8'></a> Ćwiczenie 128\n",
        "Ustaw z powrotem indeks dla kolumny _Date_. Wyświetl obiekt _google_."
      ]
    },
    {
      "cell_type": "code",
      "metadata": {
        "id": "E4zwlRNFoMMz",
        "colab": {
          "base_uri": "https://localhost:8080/",
          "height": 450
        },
        "outputId": "8bc39052-863e-4d32-a609-6dfd917a3411"
      },
      "source": [
        "# tutaj wpisz rozwiązanie\n",
        "google = google.set_index('Date')\n",
        "google"
      ],
      "execution_count": 43,
      "outputs": [
        {
          "output_type": "execute_result",
          "data": {
            "text/html": [
              "<div>\n",
              "<style scoped>\n",
              "    .dataframe tbody tr th:only-of-type {\n",
              "        vertical-align: middle;\n",
              "    }\n",
              "\n",
              "    .dataframe tbody tr th {\n",
              "        vertical-align: top;\n",
              "    }\n",
              "\n",
              "    .dataframe thead th {\n",
              "        text-align: right;\n",
              "    }\n",
              "</style>\n",
              "<table border=\"1\" class=\"dataframe\">\n",
              "  <thead>\n",
              "    <tr style=\"text-align: right;\">\n",
              "      <th></th>\n",
              "      <th>Open</th>\n",
              "      <th>High</th>\n",
              "      <th>Low</th>\n",
              "      <th>Close</th>\n",
              "      <th>Volume</th>\n",
              "      <th>Month</th>\n",
              "      <th>Year</th>\n",
              "    </tr>\n",
              "    <tr>\n",
              "      <th>Date</th>\n",
              "      <th></th>\n",
              "      <th></th>\n",
              "      <th></th>\n",
              "      <th></th>\n",
              "      <th></th>\n",
              "      <th></th>\n",
              "      <th></th>\n",
              "    </tr>\n",
              "  </thead>\n",
              "  <tbody>\n",
              "    <tr>\n",
              "      <th>2021-06-07</th>\n",
              "      <td>2389.44</td>\n",
              "      <td>2404.51</td>\n",
              "      <td>2381.00</td>\n",
              "      <td>2402.30</td>\n",
              "      <td>1205966</td>\n",
              "      <td>6</td>\n",
              "      <td>2021</td>\n",
              "    </tr>\n",
              "    <tr>\n",
              "      <th>2021-06-04</th>\n",
              "      <td>2369.27</td>\n",
              "      <td>2399.03</td>\n",
              "      <td>2362.41</td>\n",
              "      <td>2393.57</td>\n",
              "      <td>1222910</td>\n",
              "      <td>6</td>\n",
              "      <td>2021</td>\n",
              "    </tr>\n",
              "    <tr>\n",
              "      <th>2021-06-03</th>\n",
              "      <td>2345.73</td>\n",
              "      <td>2357.01</td>\n",
              "      <td>2329.52</td>\n",
              "      <td>2347.58</td>\n",
              "      <td>934796</td>\n",
              "      <td>6</td>\n",
              "      <td>2021</td>\n",
              "    </tr>\n",
              "    <tr>\n",
              "      <th>2021-06-02</th>\n",
              "      <td>2389.15</td>\n",
              "      <td>2393.64</td>\n",
              "      <td>2352.36</td>\n",
              "      <td>2370.59</td>\n",
              "      <td>1058146</td>\n",
              "      <td>6</td>\n",
              "      <td>2021</td>\n",
              "    </tr>\n",
              "    <tr>\n",
              "      <th>2021-06-01</th>\n",
              "      <td>2374.44</td>\n",
              "      <td>2385.71</td>\n",
              "      <td>2354.28</td>\n",
              "      <td>2381.18</td>\n",
              "      <td>1167901</td>\n",
              "      <td>6</td>\n",
              "      <td>2021</td>\n",
              "    </tr>\n",
              "    <tr>\n",
              "      <th>...</th>\n",
              "      <td>...</td>\n",
              "      <td>...</td>\n",
              "      <td>...</td>\n",
              "      <td>...</td>\n",
              "      <td>...</td>\n",
              "      <td>...</td>\n",
              "      <td>...</td>\n",
              "    </tr>\n",
              "    <tr>\n",
              "      <th>2016-06-15</th>\n",
              "      <td>734.92</td>\n",
              "      <td>736.96</td>\n",
              "      <td>731.31</td>\n",
              "      <td>732.19</td>\n",
              "      <td>731766</td>\n",
              "      <td>6</td>\n",
              "      <td>2016</td>\n",
              "    </tr>\n",
              "    <tr>\n",
              "      <th>2016-06-14</th>\n",
              "      <td>729.31</td>\n",
              "      <td>736.00</td>\n",
              "      <td>726.50</td>\n",
              "      <td>733.25</td>\n",
              "      <td>877264</td>\n",
              "      <td>6</td>\n",
              "      <td>2016</td>\n",
              "    </tr>\n",
              "    <tr>\n",
              "      <th>2016-06-13</th>\n",
              "      <td>729.82</td>\n",
              "      <td>739.00</td>\n",
              "      <td>729.82</td>\n",
              "      <td>731.88</td>\n",
              "      <td>746805</td>\n",
              "      <td>6</td>\n",
              "      <td>2016</td>\n",
              "    </tr>\n",
              "    <tr>\n",
              "      <th>2016-06-10</th>\n",
              "      <td>735.95</td>\n",
              "      <td>739.64</td>\n",
              "      <td>730.51</td>\n",
              "      <td>733.19</td>\n",
              "      <td>1242152</td>\n",
              "      <td>6</td>\n",
              "      <td>2016</td>\n",
              "    </tr>\n",
              "    <tr>\n",
              "      <th>2016-06-09</th>\n",
              "      <td>737.07</td>\n",
              "      <td>743.93</td>\n",
              "      <td>736.50</td>\n",
              "      <td>742.52</td>\n",
              "      <td>619331</td>\n",
              "      <td>6</td>\n",
              "      <td>2016</td>\n",
              "    </tr>\n",
              "  </tbody>\n",
              "</table>\n",
              "<p>1257 rows × 7 columns</p>\n",
              "</div>"
            ],
            "text/plain": [
              "              Open    High     Low   Close   Volume  Month  Year\n",
              "Date                                                            \n",
              "2021-06-07 2389.44 2404.51 2381.00 2402.30  1205966      6  2021\n",
              "2021-06-04 2369.27 2399.03 2362.41 2393.57  1222910      6  2021\n",
              "2021-06-03 2345.73 2357.01 2329.52 2347.58   934796      6  2021\n",
              "2021-06-02 2389.15 2393.64 2352.36 2370.59  1058146      6  2021\n",
              "2021-06-01 2374.44 2385.71 2354.28 2381.18  1167901      6  2021\n",
              "...            ...     ...     ...     ...      ...    ...   ...\n",
              "2016-06-15  734.92  736.96  731.31  732.19   731766      6  2016\n",
              "2016-06-14  729.31  736.00  726.50  733.25   877264      6  2016\n",
              "2016-06-13  729.82  739.00  729.82  731.88   746805      6  2016\n",
              "2016-06-10  735.95  739.64  730.51  733.19  1242152      6  2016\n",
              "2016-06-09  737.07  743.93  736.50  742.52   619331      6  2016\n",
              "\n",
              "[1257 rows x 7 columns]"
            ]
          },
          "metadata": {
            "tags": []
          },
          "execution_count": 43
        }
      ]
    },
    {
      "cell_type": "markdown",
      "metadata": {
        "id": "tgI6xEn-2AQo"
      },
      "source": [
        "### <a name='9'></a> Ćwiczenie 129\n",
        "Usuń na stałe kolumny _Year_ i _Month_ z obiektu _google_. Wyświetl obiekt _google_."
      ]
    },
    {
      "cell_type": "code",
      "metadata": {
        "id": "Qpy5zTecoY1T",
        "colab": {
          "base_uri": "https://localhost:8080/",
          "height": 450
        },
        "outputId": "bc5fb7c4-ef1f-4cb0-b350-42e59de7e673"
      },
      "source": [
        "# tutaj wpisz rozwiązanie\n",
        "google = google.drop(columns=['Year', 'Month'])\n",
        "google"
      ],
      "execution_count": 44,
      "outputs": [
        {
          "output_type": "execute_result",
          "data": {
            "text/html": [
              "<div>\n",
              "<style scoped>\n",
              "    .dataframe tbody tr th:only-of-type {\n",
              "        vertical-align: middle;\n",
              "    }\n",
              "\n",
              "    .dataframe tbody tr th {\n",
              "        vertical-align: top;\n",
              "    }\n",
              "\n",
              "    .dataframe thead th {\n",
              "        text-align: right;\n",
              "    }\n",
              "</style>\n",
              "<table border=\"1\" class=\"dataframe\">\n",
              "  <thead>\n",
              "    <tr style=\"text-align: right;\">\n",
              "      <th></th>\n",
              "      <th>Open</th>\n",
              "      <th>High</th>\n",
              "      <th>Low</th>\n",
              "      <th>Close</th>\n",
              "      <th>Volume</th>\n",
              "    </tr>\n",
              "    <tr>\n",
              "      <th>Date</th>\n",
              "      <th></th>\n",
              "      <th></th>\n",
              "      <th></th>\n",
              "      <th></th>\n",
              "      <th></th>\n",
              "    </tr>\n",
              "  </thead>\n",
              "  <tbody>\n",
              "    <tr>\n",
              "      <th>2021-06-07</th>\n",
              "      <td>2389.44</td>\n",
              "      <td>2404.51</td>\n",
              "      <td>2381.00</td>\n",
              "      <td>2402.30</td>\n",
              "      <td>1205966</td>\n",
              "    </tr>\n",
              "    <tr>\n",
              "      <th>2021-06-04</th>\n",
              "      <td>2369.27</td>\n",
              "      <td>2399.03</td>\n",
              "      <td>2362.41</td>\n",
              "      <td>2393.57</td>\n",
              "      <td>1222910</td>\n",
              "    </tr>\n",
              "    <tr>\n",
              "      <th>2021-06-03</th>\n",
              "      <td>2345.73</td>\n",
              "      <td>2357.01</td>\n",
              "      <td>2329.52</td>\n",
              "      <td>2347.58</td>\n",
              "      <td>934796</td>\n",
              "    </tr>\n",
              "    <tr>\n",
              "      <th>2021-06-02</th>\n",
              "      <td>2389.15</td>\n",
              "      <td>2393.64</td>\n",
              "      <td>2352.36</td>\n",
              "      <td>2370.59</td>\n",
              "      <td>1058146</td>\n",
              "    </tr>\n",
              "    <tr>\n",
              "      <th>2021-06-01</th>\n",
              "      <td>2374.44</td>\n",
              "      <td>2385.71</td>\n",
              "      <td>2354.28</td>\n",
              "      <td>2381.18</td>\n",
              "      <td>1167901</td>\n",
              "    </tr>\n",
              "    <tr>\n",
              "      <th>...</th>\n",
              "      <td>...</td>\n",
              "      <td>...</td>\n",
              "      <td>...</td>\n",
              "      <td>...</td>\n",
              "      <td>...</td>\n",
              "    </tr>\n",
              "    <tr>\n",
              "      <th>2016-06-15</th>\n",
              "      <td>734.92</td>\n",
              "      <td>736.96</td>\n",
              "      <td>731.31</td>\n",
              "      <td>732.19</td>\n",
              "      <td>731766</td>\n",
              "    </tr>\n",
              "    <tr>\n",
              "      <th>2016-06-14</th>\n",
              "      <td>729.31</td>\n",
              "      <td>736.00</td>\n",
              "      <td>726.50</td>\n",
              "      <td>733.25</td>\n",
              "      <td>877264</td>\n",
              "    </tr>\n",
              "    <tr>\n",
              "      <th>2016-06-13</th>\n",
              "      <td>729.82</td>\n",
              "      <td>739.00</td>\n",
              "      <td>729.82</td>\n",
              "      <td>731.88</td>\n",
              "      <td>746805</td>\n",
              "    </tr>\n",
              "    <tr>\n",
              "      <th>2016-06-10</th>\n",
              "      <td>735.95</td>\n",
              "      <td>739.64</td>\n",
              "      <td>730.51</td>\n",
              "      <td>733.19</td>\n",
              "      <td>1242152</td>\n",
              "    </tr>\n",
              "    <tr>\n",
              "      <th>2016-06-09</th>\n",
              "      <td>737.07</td>\n",
              "      <td>743.93</td>\n",
              "      <td>736.50</td>\n",
              "      <td>742.52</td>\n",
              "      <td>619331</td>\n",
              "    </tr>\n",
              "  </tbody>\n",
              "</table>\n",
              "<p>1257 rows × 5 columns</p>\n",
              "</div>"
            ],
            "text/plain": [
              "              Open    High     Low   Close   Volume\n",
              "Date                                               \n",
              "2021-06-07 2389.44 2404.51 2381.00 2402.30  1205966\n",
              "2021-06-04 2369.27 2399.03 2362.41 2393.57  1222910\n",
              "2021-06-03 2345.73 2357.01 2329.52 2347.58   934796\n",
              "2021-06-02 2389.15 2393.64 2352.36 2370.59  1058146\n",
              "2021-06-01 2374.44 2385.71 2354.28 2381.18  1167901\n",
              "...            ...     ...     ...     ...      ...\n",
              "2016-06-15  734.92  736.96  731.31  732.19   731766\n",
              "2016-06-14  729.31  736.00  726.50  733.25   877264\n",
              "2016-06-13  729.82  739.00  729.82  731.88   746805\n",
              "2016-06-10  735.95  739.64  730.51  733.19  1242152\n",
              "2016-06-09  737.07  743.93  736.50  742.52   619331\n",
              "\n",
              "[1257 rows x 5 columns]"
            ]
          },
          "metadata": {
            "tags": []
          },
          "execution_count": 44
        }
      ]
    },
    {
      "cell_type": "markdown",
      "metadata": {
        "id": "wxhpf-uq2B1I"
      },
      "source": [
        "### <a name='10'></a> Ćwiczenie 130\n",
        "Przypisz polskie nazwy kolumn (bez polskich znaków):\n",
        "* Open -> Otwarcie\n",
        "* High -> Najwyzszy\n",
        "* Low -> Najnizszy\n",
        "* Close -> Zamkniecie\n",
        "* Volume -> Wolumen\n",
        "\n",
        "do obiektu _google_. Wyświetl obiekt _google_."
      ]
    },
    {
      "cell_type": "code",
      "metadata": {
        "id": "YFc0KW6URsuc",
        "colab": {
          "base_uri": "https://localhost:8080/",
          "height": 450
        },
        "outputId": "8ff8015c-33f9-4917-e6c0-2ab9698088f5"
      },
      "source": [
        "# tutaj wpisz rozwiązanie\n",
        "google.columns = ['Otwarcie', 'Najwyzszy', 'Najnizszy', 'Zamkniecie', 'Wolumen']\n",
        "google"
      ],
      "execution_count": 45,
      "outputs": [
        {
          "output_type": "execute_result",
          "data": {
            "text/html": [
              "<div>\n",
              "<style scoped>\n",
              "    .dataframe tbody tr th:only-of-type {\n",
              "        vertical-align: middle;\n",
              "    }\n",
              "\n",
              "    .dataframe tbody tr th {\n",
              "        vertical-align: top;\n",
              "    }\n",
              "\n",
              "    .dataframe thead th {\n",
              "        text-align: right;\n",
              "    }\n",
              "</style>\n",
              "<table border=\"1\" class=\"dataframe\">\n",
              "  <thead>\n",
              "    <tr style=\"text-align: right;\">\n",
              "      <th></th>\n",
              "      <th>Otwarcie</th>\n",
              "      <th>Najwyzszy</th>\n",
              "      <th>Najnizszy</th>\n",
              "      <th>Zamkniecie</th>\n",
              "      <th>Wolumen</th>\n",
              "    </tr>\n",
              "    <tr>\n",
              "      <th>Date</th>\n",
              "      <th></th>\n",
              "      <th></th>\n",
              "      <th></th>\n",
              "      <th></th>\n",
              "      <th></th>\n",
              "    </tr>\n",
              "  </thead>\n",
              "  <tbody>\n",
              "    <tr>\n",
              "      <th>2021-06-07</th>\n",
              "      <td>2389.44</td>\n",
              "      <td>2404.51</td>\n",
              "      <td>2381.00</td>\n",
              "      <td>2402.30</td>\n",
              "      <td>1205966</td>\n",
              "    </tr>\n",
              "    <tr>\n",
              "      <th>2021-06-04</th>\n",
              "      <td>2369.27</td>\n",
              "      <td>2399.03</td>\n",
              "      <td>2362.41</td>\n",
              "      <td>2393.57</td>\n",
              "      <td>1222910</td>\n",
              "    </tr>\n",
              "    <tr>\n",
              "      <th>2021-06-03</th>\n",
              "      <td>2345.73</td>\n",
              "      <td>2357.01</td>\n",
              "      <td>2329.52</td>\n",
              "      <td>2347.58</td>\n",
              "      <td>934796</td>\n",
              "    </tr>\n",
              "    <tr>\n",
              "      <th>2021-06-02</th>\n",
              "      <td>2389.15</td>\n",
              "      <td>2393.64</td>\n",
              "      <td>2352.36</td>\n",
              "      <td>2370.59</td>\n",
              "      <td>1058146</td>\n",
              "    </tr>\n",
              "    <tr>\n",
              "      <th>2021-06-01</th>\n",
              "      <td>2374.44</td>\n",
              "      <td>2385.71</td>\n",
              "      <td>2354.28</td>\n",
              "      <td>2381.18</td>\n",
              "      <td>1167901</td>\n",
              "    </tr>\n",
              "    <tr>\n",
              "      <th>...</th>\n",
              "      <td>...</td>\n",
              "      <td>...</td>\n",
              "      <td>...</td>\n",
              "      <td>...</td>\n",
              "      <td>...</td>\n",
              "    </tr>\n",
              "    <tr>\n",
              "      <th>2016-06-15</th>\n",
              "      <td>734.92</td>\n",
              "      <td>736.96</td>\n",
              "      <td>731.31</td>\n",
              "      <td>732.19</td>\n",
              "      <td>731766</td>\n",
              "    </tr>\n",
              "    <tr>\n",
              "      <th>2016-06-14</th>\n",
              "      <td>729.31</td>\n",
              "      <td>736.00</td>\n",
              "      <td>726.50</td>\n",
              "      <td>733.25</td>\n",
              "      <td>877264</td>\n",
              "    </tr>\n",
              "    <tr>\n",
              "      <th>2016-06-13</th>\n",
              "      <td>729.82</td>\n",
              "      <td>739.00</td>\n",
              "      <td>729.82</td>\n",
              "      <td>731.88</td>\n",
              "      <td>746805</td>\n",
              "    </tr>\n",
              "    <tr>\n",
              "      <th>2016-06-10</th>\n",
              "      <td>735.95</td>\n",
              "      <td>739.64</td>\n",
              "      <td>730.51</td>\n",
              "      <td>733.19</td>\n",
              "      <td>1242152</td>\n",
              "    </tr>\n",
              "    <tr>\n",
              "      <th>2016-06-09</th>\n",
              "      <td>737.07</td>\n",
              "      <td>743.93</td>\n",
              "      <td>736.50</td>\n",
              "      <td>742.52</td>\n",
              "      <td>619331</td>\n",
              "    </tr>\n",
              "  </tbody>\n",
              "</table>\n",
              "<p>1257 rows × 5 columns</p>\n",
              "</div>"
            ],
            "text/plain": [
              "            Otwarcie  Najwyzszy  Najnizszy  Zamkniecie  Wolumen\n",
              "Date                                                           \n",
              "2021-06-07   2389.44    2404.51    2381.00     2402.30  1205966\n",
              "2021-06-04   2369.27    2399.03    2362.41     2393.57  1222910\n",
              "2021-06-03   2345.73    2357.01    2329.52     2347.58   934796\n",
              "2021-06-02   2389.15    2393.64    2352.36     2370.59  1058146\n",
              "2021-06-01   2374.44    2385.71    2354.28     2381.18  1167901\n",
              "...              ...        ...        ...         ...      ...\n",
              "2016-06-15    734.92     736.96     731.31      732.19   731766\n",
              "2016-06-14    729.31     736.00     726.50      733.25   877264\n",
              "2016-06-13    729.82     739.00     729.82      731.88   746805\n",
              "2016-06-10    735.95     739.64     730.51      733.19  1242152\n",
              "2016-06-09    737.07     743.93     736.50      742.52   619331\n",
              "\n",
              "[1257 rows x 5 columns]"
            ]
          },
          "metadata": {
            "tags": []
          },
          "execution_count": 45
        }
      ]
    }
  ]
}