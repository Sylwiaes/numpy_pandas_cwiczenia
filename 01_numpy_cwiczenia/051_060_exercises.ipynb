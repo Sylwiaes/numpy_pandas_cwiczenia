{
  "nbformat": 4,
  "nbformat_minor": 0,
  "metadata": {
    "colab": {
      "name": "051-060_exercises.ipynb",
      "provenance": [],
      "collapsed_sections": [],
      "include_colab_link": true
    },
    "kernelspec": {
      "name": "python3",
      "display_name": "Python 3"
    }
  },
  "cells": [
    {
      "cell_type": "markdown",
      "metadata": {
        "id": "view-in-github",
        "colab_type": "text"
      },
      "source": [
        "<a href=\"https://colab.research.google.com/github/Sylwiaes/numpy_pandas_cwiczenia/blob/main/01_numpy_cwiczenia/051_060_exercises.ipynb\" target=\"_parent\"><img src=\"https://colab.research.google.com/assets/colab-badge.svg\" alt=\"Open In Colab\"/></a>"
      ]
    },
    {
      "cell_type": "markdown",
      "metadata": {
        "id": "WLEgCW5F1hho"
      },
      "source": [
        "## Numpy\n",
        "\n",
        "### Spis treści:\n",
        "* [Import biblioteki](#0)\n",
        "* [Ćwiczenie 51](#1)\n",
        "* [Ćwiczenie 52](#2)\n",
        "* [Ćwiczenie 53](#3)\n",
        "* [Ćwiczenie 54](#4)\n",
        "* [Ćwiczenie 55](#5)\n",
        "* [Ćwiczenie 56](#6)\n",
        "* [Ćwiczenie 57](#7)\n",
        "* [Ćwiczenie 58](#8)\n",
        "* [Ćwiczenie 59](#9)\n",
        "* [Ćwiczenie 60](#10)"
      ]
    },
    {
      "cell_type": "markdown",
      "metadata": {
        "id": "zeLOLmTj1kBM"
      },
      "source": [
        "### <a name='0'></a>Import biblioteki"
      ]
    },
    {
      "cell_type": "code",
      "metadata": {
        "id": "HXMB7SMe1Wnz",
        "colab": {
          "base_uri": "https://localhost:8080/",
          "height": 35
        },
        "outputId": "547c7e08-87e9-4b2f-8bd9-506e19f05bf3"
      },
      "source": [
        "import numpy as np\n",
        "\n",
        "np.random.seed(42)\n",
        "np.__version__"
      ],
      "execution_count": null,
      "outputs": [
        {
          "output_type": "execute_result",
          "data": {
            "application/vnd.google.colaboratory.intrinsic+json": {
              "type": "string"
            },
            "text/plain": [
              "'1.19.5'"
            ]
          },
          "metadata": {
            "tags": []
          },
          "execution_count": 4
        }
      ]
    },
    {
      "cell_type": "markdown",
      "metadata": {
        "id": "cyc70pMe1oCg"
      },
      "source": [
        "### <a name='1'></a> Ćwiczenie 51\n",
        "Podane są poniżej dwie tablice $A$ i $B$:\n",
        "\n",
        "\n",
        "```\n",
        "A = np.array([[3, 4, 5],\n",
        "              [8, 3, 1]])\n",
        "B = np.array([[0, 5, 2],\n",
        "              [4, 2, 1]])\n",
        "```\n",
        "* Połącz te tablice w następujący sposób:\n",
        "\n",
        "\n",
        "```\n",
        "array([[3, 4, 5],\n",
        "       [8, 3, 1],\n",
        "       [0, 5, 2],\n",
        "       [4, 2, 1]])\n",
        "```\n",
        "__Wskazówka:__ Wykorzystaj funkcję _np.concatenate()_.\n",
        "\n",
        "\n",
        "\n"
      ]
    },
    {
      "cell_type": "code",
      "metadata": {
        "id": "G06kZluT8eIh",
        "colab": {
          "base_uri": "https://localhost:8080/"
        },
        "outputId": "d2597871-75e0-4b4b-99e5-57b0ef870b28"
      },
      "source": [
        "# tutaj wpisz rozwiązanie\n",
        "A = np.array([[3, 4, 5],\n",
        "              [8, 3, 1]])\n",
        "B = np.array([[0, 5, 2],\n",
        "              [4, 2, 1]])\n",
        "\n",
        "np.concatenate((A, B))"
      ],
      "execution_count": null,
      "outputs": [
        {
          "output_type": "execute_result",
          "data": {
            "text/plain": [
              "array([[3, 4, 5],\n",
              "       [8, 3, 1],\n",
              "       [0, 5, 2],\n",
              "       [4, 2, 1]])"
            ]
          },
          "metadata": {
            "tags": []
          },
          "execution_count": 4
        }
      ]
    },
    {
      "cell_type": "markdown",
      "metadata": {
        "id": "ODw_gitA98Ul"
      },
      "source": [
        "* Połącz te tablice w następujący sposób:\n",
        "\n",
        "\n",
        "```\n",
        "array([[3, 4, 5, 0, 5, 2],\n",
        "       [8, 3, 1, 4, 2, 1]])\n",
        "```\n",
        "__Wskazówka:__ Wykorzystaj funkcję _np.concatenate()_."
      ]
    },
    {
      "cell_type": "code",
      "metadata": {
        "id": "1pmGjLj88tcf",
        "colab": {
          "base_uri": "https://localhost:8080/"
        },
        "outputId": "d9ec4418-bafb-433d-d00f-0aafeff62677"
      },
      "source": [
        "# tutaj wpisz rozwiązanie\n",
        "np.concatenate((A, B), axis=1)"
      ],
      "execution_count": null,
      "outputs": [
        {
          "output_type": "execute_result",
          "data": {
            "text/plain": [
              "array([[3, 4, 5, 0, 5, 2],\n",
              "       [8, 3, 1, 4, 2, 1]])"
            ]
          },
          "metadata": {
            "tags": []
          },
          "execution_count": 6
        }
      ]
    },
    {
      "cell_type": "markdown",
      "metadata": {
        "id": "J9pY1rtr1sC0"
      },
      "source": [
        "### <a name='2'></a> Ćwiczenie 52\n",
        "Podana jest tablica zawierająca dane _data_ oraz tablica zawierająca docelową klasę dla danego wiersza _target_:\n",
        "\n",
        "```\n",
        "data = np.array([[4.3, 4.2],\n",
        "                 [3.1, 3.6]])\n",
        "target = np.array([[0],\n",
        "                   [1]])\n",
        "```\n",
        "\n"
      ]
    },
    {
      "cell_type": "markdown",
      "metadata": {
        "id": "8cAKF7ok-RjX"
      },
      "source": [
        "Połącz te tablice w jedną tak jak pokazano poniżej:\n",
        "\n",
        "\n",
        "```\n",
        "array([[4.3, 4.2, 0. ],\n",
        "       [3.1, 3.6, 1. ]])\n",
        "```\n",
        "\n"
      ]
    },
    {
      "cell_type": "code",
      "metadata": {
        "id": "4lc68Wfr8z3u",
        "colab": {
          "base_uri": "https://localhost:8080/"
        },
        "outputId": "35665cbf-a875-4b21-b4e7-fc258a796aed"
      },
      "source": [
        "# tutaj wpisz rozwiązanie\n",
        "data = np.array([[4.3, 4.2],\n",
        "                 [3.1, 3.6]])\n",
        "target = np.array([[0],\n",
        "                   [1]])\n",
        "\n",
        "np.concatenate((data, target), axis=1)"
      ],
      "execution_count": null,
      "outputs": [
        {
          "output_type": "execute_result",
          "data": {
            "text/plain": [
              "array([[4.3, 4.2, 0. ],\n",
              "       [3.1, 3.6, 1. ]])"
            ]
          },
          "metadata": {
            "tags": []
          },
          "execution_count": 8
        }
      ]
    },
    {
      "cell_type": "markdown",
      "metadata": {
        "id": "XQLYT2m11wVG"
      },
      "source": [
        "### <a name='3'></a> Ćwiczenie 53\n",
        "Podane są trzy poniższe jednowymiarowe tablice:  \n",
        "\n",
        "\n",
        "```\n",
        "feature1 = np.array([1.6, 0.9, 2.2])\n",
        "feature2 = np.array([0.4, 1.3, 3.2])\n",
        "feature3 = np.array([1.4, 0.3, 1.2])\n",
        "```\n",
        "Przekształć każdą z tych tablic w kolumnę i sklej w jedną dużą tablicę.\n",
        "\n",
        "__Oczekiwany wynik:__\n",
        "\n",
        "\n",
        "```\n",
        "array([[1.6, 0.4, 1.4],\n",
        "       [0.9, 1.3, 0.3],\n",
        "       [2.2, 3.2, 1.2]])\n",
        "```\n",
        "\n",
        "__Wskazówka:__ Wykorzystaj funkcję _np.column_stack()_.\n",
        "\n"
      ]
    },
    {
      "cell_type": "code",
      "metadata": {
        "id": "xfPf_vq7-jBP",
        "colab": {
          "base_uri": "https://localhost:8080/"
        },
        "outputId": "fac90f4b-d727-42cd-aab7-734c045f20bb"
      },
      "source": [
        "# tutaj wpisz rozwiązanie\n",
        "feature1 = np.array([1.6, 0.9, 2.2])\n",
        "feature2 = np.array([0.4, 1.3, 3.2])\n",
        "feature3 = np.array([1.4, 0.3, 1.2])\n",
        "\n",
        "np.column_stack((feature1, feature2, feature3))"
      ],
      "execution_count": null,
      "outputs": [
        {
          "output_type": "execute_result",
          "data": {
            "text/plain": [
              "array([[1.6, 0.4, 1.4],\n",
              "       [0.9, 1.3, 0.3],\n",
              "       [2.2, 3.2, 1.2]])"
            ]
          },
          "metadata": {
            "tags": []
          },
          "execution_count": 10
        }
      ]
    },
    {
      "cell_type": "markdown",
      "metadata": {
        "id": "4xTKSUzg10MK"
      },
      "source": [
        "### <a name='4'></a> Ćwiczenie 54\n",
        "Podana jest poniższa dwuwymiarowa tablica:\n",
        "\n",
        "```\n",
        "A = np.random.randint(low=0, high=7, size=(5, 8))\n",
        "A[:, :2] = 0\n",
        "A[:, -2:] = 1\n",
        "A\n",
        "```\n",
        "```\n",
        "array([[0, 0, 4, 6, 2, 4, 1, 1],\n",
        "       [0, 0, 6, 2, 2, 4, 1, 1],\n",
        "       [0, 0, 1, 3, 5, 5, 1, 1],\n",
        "       [0, 0, 3, 1, 5, 4, 1, 1],\n",
        "       [0, 0, 2, 6, 1, 3, 1, 1]])\n",
        "```\n",
        "\n",
        "Podziel tablicę na 3 części tak aby pierwsze dwie kolumny stanowiły pierwszą tablicę $A1$, cztery kolejne drugą tablicę $A2$ oraz dwie ostatnie trzecią tablicę $A3$.\n",
        "\n",
        "__Wskazówka:__ Wykorzystaj funkcję _np.split()_."
      ]
    },
    {
      "cell_type": "code",
      "metadata": {
        "id": "U5MFrLUHBsEf",
        "colab": {
          "base_uri": "https://localhost:8080/"
        },
        "outputId": "a3c27d0e-c77f-4c1b-b953-5241da0e569e"
      },
      "source": [
        "# tutaj wpisz rozwiązanie\n",
        "A = np.random.randint(low=0, high=7, size=(5, 8))\n",
        "A[:, :2] = 0\n",
        "A[:, -2:] = 1\n",
        "A"
      ],
      "execution_count": null,
      "outputs": [
        {
          "output_type": "execute_result",
          "data": {
            "text/plain": [
              "array([[0, 0, 4, 6, 2, 4, 1, 1],\n",
              "       [0, 0, 6, 2, 2, 4, 1, 1],\n",
              "       [0, 0, 1, 3, 5, 5, 1, 1],\n",
              "       [0, 0, 3, 1, 5, 4, 1, 1],\n",
              "       [0, 0, 2, 6, 1, 3, 1, 1]])"
            ]
          },
          "metadata": {
            "tags": []
          },
          "execution_count": 11
        }
      ]
    },
    {
      "cell_type": "code",
      "metadata": {
        "colab": {
          "base_uri": "https://localhost:8080/"
        },
        "id": "d3gU7h8J6234",
        "outputId": "a66c87f7-e5d0-44c0-e6bb-f415c7e5fd39"
      },
      "source": [
        "A1, A2, A3 = np.split(A, [2, 6], axis=1)\n",
        "print(A1)\n",
        "print(A2)\n",
        "print(A3)"
      ],
      "execution_count": null,
      "outputs": [
        {
          "output_type": "stream",
          "text": [
            "[[0 0]\n",
            " [0 0]\n",
            " [0 0]\n",
            " [0 0]\n",
            " [0 0]]\n",
            "[[4 6 2 4]\n",
            " [6 2 2 4]\n",
            " [1 3 5 5]\n",
            " [3 1 5 4]\n",
            " [2 6 1 3]]\n",
            "[[1 1]\n",
            " [1 1]\n",
            " [1 1]\n",
            " [1 1]\n",
            " [1 1]]\n"
          ],
          "name": "stdout"
        }
      ]
    },
    {
      "cell_type": "markdown",
      "metadata": {
        "id": "o3HKIKlP15Ro"
      },
      "source": [
        "### <a name='5'></a> Ćwiczenie 55\n",
        "Podana jest poniższa tablica $A$:\n",
        "\n",
        "```\n",
        "A = np.random.randint(low=0, high=2, size=(10, 6))\n",
        "```\n",
        "Wyznacz łączną liczbę elementów niezerowych dla tej tablicy.\n",
        "\n",
        "__Wskazówka:__ Wykorzystaj funkcję _np.count_nonzero()_.\n"
      ]
    },
    {
      "cell_type": "code",
      "metadata": {
        "id": "j5E2nOFyDy1b",
        "colab": {
          "base_uri": "https://localhost:8080/"
        },
        "outputId": "271bbdce-5bf8-487e-f057-fd62cc729e3a"
      },
      "source": [
        "# tutaj wpisz rozwiązanie\n",
        "A = np.random.randint(low=0, high=2, size=(10, 6))\n",
        "np.count_nonzero(A)"
      ],
      "execution_count": null,
      "outputs": [
        {
          "output_type": "execute_result",
          "data": {
            "text/plain": [
              "31"
            ]
          },
          "metadata": {
            "tags": []
          },
          "execution_count": 5
        }
      ]
    },
    {
      "cell_type": "markdown",
      "metadata": {
        "id": "wJde65uYhJ2f"
      },
      "source": [
        "Wyznacz łączną liczbę elementów niezerowych dla każdego wiersza tej tablicy.\n",
        "\n",
        "__Wskazówka:__ Wykorzystaj funkcję _np.count_nonzero()_."
      ]
    },
    {
      "cell_type": "code",
      "metadata": {
        "id": "BWG-icQuEEPS",
        "colab": {
          "base_uri": "https://localhost:8080/"
        },
        "outputId": "02455615-0166-4798-c8d1-a899b0cbdaa8"
      },
      "source": [
        "# tutaj wpisz rozwiązanie\n",
        "np.count_nonzero(A, axis=1)"
      ],
      "execution_count": null,
      "outputs": [
        {
          "output_type": "execute_result",
          "data": {
            "text/plain": [
              "array([2, 1, 3, 4, 6, 3, 1, 5, 4, 2])"
            ]
          },
          "metadata": {
            "tags": []
          },
          "execution_count": 6
        }
      ]
    },
    {
      "cell_type": "markdown",
      "metadata": {
        "id": "PunXd_Ey16so"
      },
      "source": [
        "### <a name='6'></a> Ćwiczenie 56\n",
        "Poniżej podana jest przykładowa tablica $A$:\n",
        "\n",
        "```\n",
        "A = np.random.randn(10, 4)\n",
        "```\n",
        "\n",
        "```\n",
        "array([[-0.53441645, -1.49505387, -0.78925833,  0.74371128],\n",
        "       [-0.21216142, -0.42686879,  0.50144833,  1.15818665],\n",
        "       [ 0.25711687,  0.3145129 ,  1.37186213,  0.17555329],\n",
        "       [-0.30928855,  0.6731255 , -0.25663018, -0.36782572],\n",
        "       [ 1.27373362, -0.29195267, -2.65517605,  0.34551794],\n",
        "       [-0.39551645, -0.28913686,  0.45293633, -0.16606091],\n",
        "       [ 0.21493883, -2.02231493, -0.94305681,  1.40395874],\n",
        "       [-0.0185508 , -1.67350462, -1.07253183, -0.99258618],\n",
        "       [ 0.10234768, -0.43260928, -0.6591823 ,  0.0039373 ],\n",
        "       [ 0.4777541 , -0.25902864, -0.57470921, -0.42149822]])\n",
        "```\n",
        "\n",
        "\n",
        "Ustaw odopowiednią opcję biblioteki numpy pozwalającą drukować tablice z określoną precyzją. Ustaw jej wartość na 4 i wydrukuj tablicę $A$.\n",
        "\n"
      ]
    },
    {
      "cell_type": "code",
      "metadata": {
        "id": "aL6C9MYSYkaL",
        "colab": {
          "base_uri": "https://localhost:8080/"
        },
        "outputId": "fd15d5d0-b73c-49d5-b03b-4ee8e91b0f31"
      },
      "source": [
        "# tutaj wpisz rozwiązanie\n",
        "A = np.random.randn(10, 4)\n",
        "A"
      ],
      "execution_count": null,
      "outputs": [
        {
          "output_type": "execute_result",
          "data": {
            "text/plain": [
              "array([[-0.07201012,  1.0035329 ,  0.36163603, -0.64511975],\n",
              "       [ 0.36139561,  1.53803657, -0.03582604,  1.56464366],\n",
              "       [-2.6197451 ,  0.8219025 ,  0.08704707, -0.29900735],\n",
              "       [ 0.09176078, -1.98756891, -0.21967189,  0.35711257],\n",
              "       [ 1.47789404, -0.51827022, -0.8084936 , -0.50175704],\n",
              "       [ 0.91540212,  0.32875111, -0.5297602 ,  0.51326743],\n",
              "       [ 0.09707755,  0.96864499, -0.70205309, -0.32766215],\n",
              "       [-0.39210815, -1.46351495,  0.29612028,  0.26105527],\n",
              "       [ 0.00511346, -0.23458713, -1.41537074, -0.42064532],\n",
              "       [-0.34271452, -0.80227727, -0.16128571,  0.40405086]])"
            ]
          },
          "metadata": {
            "tags": []
          },
          "execution_count": 8
        }
      ]
    },
    {
      "cell_type": "code",
      "metadata": {
        "colab": {
          "base_uri": "https://localhost:8080/"
        },
        "id": "yVxk1n7tZbJt",
        "outputId": "1699ded2-267f-4142-fb62-532dcebdffa7"
      },
      "source": [
        "np.set_printoptions(precision=4)\n",
        "A"
      ],
      "execution_count": null,
      "outputs": [
        {
          "output_type": "execute_result",
          "data": {
            "text/plain": [
              "array([[-0.072 ,  1.0035,  0.3616, -0.6451],\n",
              "       [ 0.3614,  1.538 , -0.0358,  1.5646],\n",
              "       [-2.6197,  0.8219,  0.087 , -0.299 ],\n",
              "       [ 0.0918, -1.9876, -0.2197,  0.3571],\n",
              "       [ 1.4779, -0.5183, -0.8085, -0.5018],\n",
              "       [ 0.9154,  0.3288, -0.5298,  0.5133],\n",
              "       [ 0.0971,  0.9686, -0.7021, -0.3277],\n",
              "       [-0.3921, -1.4635,  0.2961,  0.2611],\n",
              "       [ 0.0051, -0.2346, -1.4154, -0.4206],\n",
              "       [-0.3427, -0.8023, -0.1613,  0.4041]])"
            ]
          },
          "metadata": {
            "tags": []
          },
          "execution_count": 11
        }
      ]
    },
    {
      "cell_type": "markdown",
      "metadata": {
        "id": "hOhqDRz618Tx"
      },
      "source": [
        "### <a name='7'></a> Ćwiczenie 57\n",
        "Podana jest poniższa tablica numpy $A$:\n",
        "\n",
        "```\n",
        "A = np.array([1.2e-6, 1.7e-7])\n",
        "```\n",
        "\n",
        "Ustaw wartość precyzji na 8. Następnie ustaw odopowiednią opcję biblioteki numpy pozwalającą stłumić notację wykładniczą. Wydrukuj tablicę $A$.\n",
        "\n",
        "__Oczekiwany wynik:__\n",
        "\n",
        "\n",
        "```\n",
        "array([0.0000012 , 0.00000017])\n",
        "```\n",
        "\n",
        "\n",
        "\n"
      ]
    },
    {
      "cell_type": "code",
      "metadata": {
        "id": "BUr3XXiWdUWi",
        "colab": {
          "base_uri": "https://localhost:8080/"
        },
        "outputId": "95b31762-2fd9-4016-c4e3-df70fdfad5da"
      },
      "source": [
        "# tutaj wpisz rozwiązanie\n",
        "A = np.array([1.2e-6, 1.7e-7])\n",
        "A"
      ],
      "execution_count": null,
      "outputs": [
        {
          "output_type": "execute_result",
          "data": {
            "text/plain": [
              "array([1.2e-06, 1.7e-07])"
            ]
          },
          "metadata": {
            "tags": []
          },
          "execution_count": 13
        }
      ]
    },
    {
      "cell_type": "code",
      "metadata": {
        "colab": {
          "base_uri": "https://localhost:8080/"
        },
        "id": "Q11wV1UxZsen",
        "outputId": "13e514fb-3525-430e-8545-c76b6dba9f51"
      },
      "source": [
        "np.set_printoptions(precision=8, suppress=True) #parametr suppress-tłumienie notacji wykładniczej\n",
        "A"
      ],
      "execution_count": null,
      "outputs": [
        {
          "output_type": "execute_result",
          "data": {
            "text/plain": [
              "array([0.0000012 , 0.00000017])"
            ]
          },
          "metadata": {
            "tags": []
          },
          "execution_count": 16
        }
      ]
    },
    {
      "cell_type": "markdown",
      "metadata": {
        "id": "TXUd_4631-gw"
      },
      "source": [
        "### <a name='8'></a> Ćwiczenie 58\n",
        "Podana jest poniższa tablica numpy $A$:\n",
        "\n",
        "```\n",
        "A = np.random.randn(8, 4)\n",
        "```\n",
        "Usuń trzecią kolumnę z tablicy $A$.\n",
        "\n",
        "__Oczekiwany wynik:__\n",
        "\n",
        "\n",
        "```\n",
        "array([[-0.55692881, -0.66003196,  0.70856031],\n",
        "       [ 0.22378737, -0.19796576, -0.16889332],\n",
        "       [ 0.26062786,  0.29865445, -0.92259267],\n",
        "       [-2.40317659,  1.79961876, -1.96495796],\n",
        "       [ 0.13051561, -1.7085185 ,  0.54885043],\n",
        "       [ 1.77268727,  0.38751181, -0.05141955],\n",
        "       [-1.80858596, -0.45075211,  0.15332866],\n",
        "       [ 1.94218961, -1.93679529, -1.83350954]])\n",
        "```\n",
        "__Wskazówka:__ Wykorzystaj funkcję _np.delete()_.\n",
        "\n",
        "\n"
      ]
    },
    {
      "cell_type": "code",
      "metadata": {
        "id": "o5PxnILogU6z",
        "colab": {
          "base_uri": "https://localhost:8080/"
        },
        "outputId": "563dec53-a45a-4273-a69f-0e7fa25f77ff"
      },
      "source": [
        "# tutaj wpisz rozwiązanie\n",
        "A = np.random.randn(8, 4)\n",
        "A"
      ],
      "execution_count": null,
      "outputs": [
        {
          "output_type": "execute_result",
          "data": {
            "text/plain": [
              "array([[ 1.8861859 ,  0.17457781,  0.25755039, -0.07444592],\n",
              "       [-1.91877122, -0.02651388,  0.06023021,  2.46324211],\n",
              "       [-0.19236096,  0.30154734, -0.03471177, -1.16867804],\n",
              "       [ 1.14282281,  0.75193303,  0.79103195, -0.90938745],\n",
              "       [ 1.40279431, -1.40185106,  0.58685709,  2.19045563],\n",
              "       [-0.99053633, -0.56629773,  0.09965137, -0.50347565],\n",
              "       [-1.55066343,  0.06856297, -1.06230371,  0.47359243],\n",
              "       [-0.91942423,  1.54993441, -0.78325329, -0.32206152]])"
            ]
          },
          "metadata": {
            "tags": []
          },
          "execution_count": 17
        }
      ]
    },
    {
      "cell_type": "code",
      "metadata": {
        "colab": {
          "base_uri": "https://localhost:8080/"
        },
        "id": "owXEG40KaWNK",
        "outputId": "da2ceddc-5c4b-4e46-8c52-66f40522cb62"
      },
      "source": [
        "np.delete(A, [2], axis=1)"
      ],
      "execution_count": null,
      "outputs": [
        {
          "output_type": "execute_result",
          "data": {
            "text/plain": [
              "array([[ 1.8861859 ,  0.17457781, -0.07444592],\n",
              "       [-1.91877122, -0.02651388,  2.46324211],\n",
              "       [-0.19236096,  0.30154734, -1.16867804],\n",
              "       [ 1.14282281,  0.75193303, -0.90938745],\n",
              "       [ 1.40279431, -1.40185106,  2.19045563],\n",
              "       [-0.99053633, -0.56629773, -0.50347565],\n",
              "       [-1.55066343,  0.06856297,  0.47359243],\n",
              "       [-0.91942423,  1.54993441, -0.32206152]])"
            ]
          },
          "metadata": {
            "tags": []
          },
          "execution_count": 20
        }
      ]
    },
    {
      "cell_type": "markdown",
      "metadata": {
        "id": "tgI6xEn-2AQo"
      },
      "source": [
        "### <a name='9'></a> Ćwiczenie 59\n",
        "Podana jest tablica jednowymiarowa $v$ (wektor):\n",
        "\n",
        "```\n",
        "v = np.array([3, 4, -2])\n",
        "```\n",
        "Policz normę wektora $v$.\n"
      ]
    },
    {
      "cell_type": "code",
      "metadata": {
        "id": "TYPzAZCwi-Ky",
        "colab": {
          "base_uri": "https://localhost:8080/"
        },
        "outputId": "98239daf-a417-45ca-8896-c48b0d52ce7a"
      },
      "source": [
        "# tutaj wpisz rozwiązanie\n",
        "v = np.array([3, 4, -2])\n",
        "v"
      ],
      "execution_count": null,
      "outputs": [
        {
          "output_type": "execute_result",
          "data": {
            "text/plain": [
              "array([ 3,  4, -2])"
            ]
          },
          "metadata": {
            "tags": []
          },
          "execution_count": 22
        }
      ]
    },
    {
      "cell_type": "code",
      "metadata": {
        "colab": {
          "base_uri": "https://localhost:8080/"
        },
        "id": "ZFdiuB3Somq4",
        "outputId": "c3ec9824-7013-427e-bc0e-89aa493dc821"
      },
      "source": [
        "np.linalg.norm(v)"
      ],
      "execution_count": null,
      "outputs": [
        {
          "output_type": "execute_result",
          "data": {
            "text/plain": [
              "5.385164807134504"
            ]
          },
          "metadata": {
            "tags": []
          },
          "execution_count": 24
        }
      ]
    },
    {
      "cell_type": "markdown",
      "metadata": {
        "id": "wxhpf-uq2B1I"
      },
      "source": [
        "### <a name='10'></a> Ćwiczenie 60\n",
        "Poniżej podana jest przykładowa tablica $A$:\n",
        "\n",
        "\n",
        "```\n",
        "A = np.random.randint(10, size=(100, 30))\n",
        "```\n",
        "Ustaw odopowiednią opcję biblioteki numpy pozwalającą drukować 10 skrajnych elementów. Wydrukuj tablicę $A$.\n"
      ]
    },
    {
      "cell_type": "code",
      "metadata": {
        "id": "liJX2nIBk-gO",
        "colab": {
          "base_uri": "https://localhost:8080/"
        },
        "outputId": "5311140b-a41c-428b-d3ba-06e7d4b4b192"
      },
      "source": [
        "# tutaj wpisz rozwiązanie\n",
        "A = np.random.randint(10, size=(100, 30))\n",
        "A"
      ],
      "execution_count": null,
      "outputs": [
        {
          "output_type": "execute_result",
          "data": {
            "text/plain": [
              "array([[2, 1, 2, ..., 0, 8, 4],\n",
              "       [4, 2, 4, ..., 6, 1, 1],\n",
              "       [7, 1, 8, ..., 1, 2, 2],\n",
              "       ...,\n",
              "       [7, 9, 4, ..., 3, 9, 8],\n",
              "       [9, 9, 0, ..., 5, 0, 0],\n",
              "       [8, 9, 5, ..., 9, 4, 3]])"
            ]
          },
          "metadata": {
            "tags": []
          },
          "execution_count": 25
        }
      ]
    },
    {
      "cell_type": "code",
      "metadata": {
        "colab": {
          "base_uri": "https://localhost:8080/"
        },
        "id": "ixPtRBOWoxog",
        "outputId": "ee6aaa3f-5bb6-47e5-9086-9ff5c815326e"
      },
      "source": [
        "np.set_printoptions(edgeitems=10)\n",
        "A"
      ],
      "execution_count": null,
      "outputs": [
        {
          "output_type": "execute_result",
          "data": {
            "text/plain": [
              "array([[2, 1, 2, 5, 1, 7, 0, 6, 1, 9, ..., 7, 6, 5, 6, 4, 6, 0, 0, 8, 4],\n",
              "       [4, 2, 4, 2, 8, 8, 5, 0, 6, 6, ..., 4, 7, 5, 3, 6, 7, 1, 6, 1, 1],\n",
              "       [7, 1, 8, 0, 8, 0, 9, 9, 1, 5, ..., 8, 0, 2, 8, 1, 3, 3, 1, 2, 2],\n",
              "       [0, 5, 7, 2, 4, 0, 9, 6, 9, 0, ..., 0, 3, 8, 8, 4, 3, 2, 2, 4, 9],\n",
              "       [0, 4, 5, 6, 8, 2, 1, 2, 8, 6, ..., 5, 0, 3, 6, 1, 8, 7, 7, 6, 3],\n",
              "       [1, 2, 5, 4, 7, 5, 5, 0, 3, 4, ..., 5, 7, 1, 5, 0, 3, 9, 2, 8, 2],\n",
              "       [5, 0, 5, 3, 7, 8, 3, 9, 9, 5, ..., 1, 4, 5, 6, 4, 8, 0, 6, 9, 6],\n",
              "       [3, 8, 4, 3, 6, 3, 2, 8, 7, 0, ..., 1, 6, 9, 3, 9, 7, 8, 6, 4, 7],\n",
              "       [3, 1, 5, 8, 0, 9, 6, 9, 8, 9, ..., 5, 7, 5, 8, 8, 1, 9, 0, 1, 4],\n",
              "       [3, 3, 8, 7, 5, 0, 1, 5, 1, 9, ..., 0, 0, 1, 5, 8, 3, 2, 7, 9, 8],\n",
              "       ...,\n",
              "       [7, 7, 0, 7, 1, 5, 0, 4, 6, 9, ..., 6, 7, 1, 9, 6, 7, 5, 5, 9, 0],\n",
              "       [3, 0, 3, 1, 4, 9, 8, 9, 2, 7, ..., 7, 6, 2, 5, 8, 6, 2, 5, 3, 2],\n",
              "       [8, 9, 1, 0, 1, 6, 9, 0, 5, 6, ..., 1, 0, 3, 4, 5, 4, 0, 2, 0, 4],\n",
              "       [4, 5, 7, 9, 0, 3, 9, 0, 8, 6, ..., 0, 4, 5, 5, 8, 3, 0, 5, 4, 9],\n",
              "       [5, 2, 1, 5, 0, 6, 6, 9, 6, 9, ..., 5, 6, 9, 2, 2, 6, 1, 0, 8, 8],\n",
              "       [6, 6, 2, 9, 1, 6, 8, 0, 3, 5, ..., 2, 9, 2, 7, 8, 0, 1, 9, 1, 3],\n",
              "       [1, 6, 8, 6, 5, 9, 0, 9, 8, 4, ..., 8, 1, 8, 7, 8, 3, 0, 0, 4, 1],\n",
              "       [7, 9, 4, 4, 1, 6, 7, 9, 0, 1, ..., 7, 7, 8, 4, 6, 2, 9, 3, 9, 8],\n",
              "       [9, 9, 0, 1, 4, 2, 1, 0, 9, 2, ..., 3, 3, 4, 5, 6, 3, 7, 5, 0, 0],\n",
              "       [8, 9, 5, 9, 7, 6, 5, 3, 6, 8, ..., 9, 1, 0, 9, 0, 7, 1, 9, 4, 3]])"
            ]
          },
          "metadata": {
            "tags": []
          },
          "execution_count": 26
        }
      ]
    }
  ]
}